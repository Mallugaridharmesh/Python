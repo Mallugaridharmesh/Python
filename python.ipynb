{
  "nbformat": 4,
  "nbformat_minor": 0,
  "metadata": {
    "colab": {
      "provenance": [],
      "gpuType": "T4",
      "authorship_tag": "ABX9TyPXgYxBaPkSeca6Is+D6jvA",
      "include_colab_link": true
    },
    "kernelspec": {
      "name": "python3",
      "display_name": "Python 3"
    },
    "language_info": {
      "name": "python"
    },
    "accelerator": "GPU"
  },
  "cells": [
    {
      "cell_type": "markdown",
      "metadata": {
        "id": "view-in-github",
        "colab_type": "text"
      },
      "source": [
        "<a href=\"https://colab.research.google.com/github/Mallugaridharmesh/Python/blob/main/python.ipynb\" target=\"_parent\"><img src=\"https://colab.research.google.com/assets/colab-badge.svg\" alt=\"Open In Colab\"/></a>"
      ]
    },
    {
      "cell_type": "markdown",
      "source": [
        "python\n"
      ],
      "metadata": {
        "id": "URxYLcDFtSOw"
      }
    },
    {
      "cell_type": "markdown",
      "source": [
        "# what is python?\n",
        "Python is a high-level, interpreted programming language known for its readability and simplicity. Created by Guido van Rossum and first released in 1991, it emphasizes code clarity and ease of use, making it popular among beginners and experienced developers alike.\n",
        "\n",
        "\n",
        "\n"
      ],
      "metadata": {
        "id": "58q6F-xD7NGJ"
      }
    },
    {
      "cell_type": "markdown",
      "source": [
        "# features\n",
        "\n",
        "1. Easy level\n",
        "2. compiler\n",
        "3. connect base\n",
        "4. Shortcut programming\n",
        "\n",
        "\n",
        "\n",
        "\n",
        "\n",
        "\n"
      ],
      "metadata": {
        "id": "h8x4LBkm8EAt"
      }
    },
    {
      "cell_type": "markdown",
      "source": [
        "# python comment\n"
      ],
      "metadata": {
        "id": "9AxNFpEP9C66"
      }
    },
    {
      "cell_type": "markdown",
      "source": [
        "Comments can be used to explain Python code.\n",
        "\n",
        "Comments can be used to make the code more readable.\n",
        "\n",
        "Comments can be used to prevent execution when testing code."
      ],
      "metadata": {
        "id": "yU6IfKMu-JLQ"
      }
    },
    {
      "cell_type": "code",
      "source": [
        "#This is a comment\n",
        "print(\"Hello, World!\")"
      ],
      "metadata": {
        "colab": {
          "base_uri": "https://localhost:8080/"
        },
        "id": "m8BLkVYj-QFL",
        "outputId": "4fee5d2f-12ff-4a54-e7c4-783c07e5e9f5"
      },
      "execution_count": null,
      "outputs": [
        {
          "output_type": "execute_result",
          "data": {
            "text/plain": [
              "('H', 'e', 'l', 'l', 'o', ',', ' ', 'W', 'o', 'r', 'l', 'd', '!')"
            ]
          },
          "metadata": {},
          "execution_count": 22
        }
      ]
    },
    {
      "cell_type": "markdown",
      "source": [
        "# Two types comments:\n",
        "1) single line comment\n",
        "\n",
        ">To add a singleline comment you could insert a # for each line:\n",
        "\n",
        "\n",
        "2) multi line comment\n",
        "\n",
        "\n",
        "> To add a multiline comment you could insert a # for each line:\n",
        "# import keyword\n",
        "\n",
        "\n"
      ],
      "metadata": {
        "id": "RzK0GzCh-mtI"
      }
    },
    {
      "cell_type": "code",
      "source": [
        "import keyword\n",
        "#Get the list of python keywords\n",
        "python_keywords = keyword.kwlist\n",
        "#Display the list of keywords\n",
        "print(python_keywords)\n",
        "len(python_keywords)"
      ],
      "metadata": {
        "colab": {
          "base_uri": "https://localhost:8080/"
        },
        "id": "fbVyNzDBAUGV",
        "outputId": "706df027-5b47-4c21-d94f-041d984d4d03"
      },
      "execution_count": null,
      "outputs": [
        {
          "output_type": "execute_result",
          "data": {
            "text/plain": [
              "35"
            ]
          },
          "metadata": {},
          "execution_count": 23
        }
      ]
    },
    {
      "cell_type": "markdown",
      "source": [
        "# Variables\n",
        "> Variables are containers for storing data values.\n",
        "\n",
        "\n",
        "> RULE'S:\n",
        "1. A variable name must start with a letter or the underscore character\n",
        "2. A variable name cannot start with a number\n",
        "3. A variable name can only contain alpha-numeric characters and underscores (A-z, 0-9, and _ )\n",
        "4. Variable names are case-sensitive (age, Age and AGE are three different variables)\n",
        "5. A variable name cannot be any of the Python keywords.\n",
        "\n",
        "\n",
        "> Type of variables:-\n",
        "1. Single variable ( contains a = 1)\n",
        "2. multi varaible:-\n",
        "*  multi variable have two types:\n",
        "*  multi to multi (contains a, b, c = 1 , 2 , 3 )\n",
        "*  multi to one (contains a= b= c=1\n",
        "\n",
        "\n",
        "\n",
        "\n",
        "\n",
        "\n",
        "\n",
        "\n",
        "\n",
        "\n",
        "\n",
        "\n",
        "\n",
        "\n",
        "\n"
      ],
      "metadata": {
        "id": "13fKjjvyBnNP"
      }
    },
    {
      "cell_type": "code",
      "source": [
        "#single variable\n",
        "Dinesh=7"
      ],
      "metadata": {
        "id": "wQApnr_pFIEG"
      },
      "execution_count": null,
      "outputs": []
    },
    {
      "cell_type": "code",
      "source": [
        "#multi to multi\n",
        "a,b,c = 1,3,5\n",
        "#value assigned to a\n",
        "print(a)\n",
        "#value assigned to b\n",
        "print(b)\n",
        "#value assigned to a\n",
        "print(c)"
      ],
      "metadata": {
        "colab": {
          "base_uri": "https://localhost:8080/"
        },
        "id": "FoT90vlbIZi0",
        "outputId": "bd0acab6-6b42-48d9-f223-444e068700cd"
      },
      "execution_count": null,
      "outputs": [
        {
          "output_type": "stream",
          "name": "stdout",
          "text": [
            "1\n",
            "3\n",
            "5\n"
          ]
        }
      ]
    },
    {
      "cell_type": "code",
      "source": [
        "#multi to one\n",
        "a=b=c=1\n",
        "#value assigned to a\n",
        "print(a)\n",
        "#value assigned to b\n",
        "print(b)\n",
        "#value assigned to c\n",
        "print(c)"
      ],
      "metadata": {
        "id": "BGB3fMt7Ixld"
      },
      "execution_count": null,
      "outputs": []
    }
  ]
}