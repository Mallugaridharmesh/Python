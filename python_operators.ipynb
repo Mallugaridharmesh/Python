{
  "nbformat": 4,
  "nbformat_minor": 0,
  "metadata": {
    "colab": {
      "provenance": [],
      "authorship_tag": "ABX9TyPlNwejhjOsfUZyegN7NGBg",
      "include_colab_link": true
    },
    "kernelspec": {
      "name": "python3",
      "display_name": "Python 3"
    },
    "language_info": {
      "name": "python"
    }
  },
  "cells": [
    {
      "cell_type": "markdown",
      "metadata": {
        "id": "view-in-github",
        "colab_type": "text"
      },
      "source": [
        "<a href=\"https://colab.research.google.com/github/Mallugaridharmesh/Python/blob/main/python_operators.ipynb\" target=\"_parent\"><img src=\"https://colab.research.google.com/assets/colab-badge.svg\" alt=\"Open In Colab\"/></a>"
      ]
    },
    {
      "cell_type": "markdown",
      "source": [
        "# Python operators:-\n",
        "> python set provides difference buit_in methods to perform mathematical set operators like union,intersection,subraction and symmetric\n"
      ],
      "metadata": {
        "id": "_EsRsMXp-YQX"
      }
    },
    {
      "cell_type": "markdown",
      "source": [
        "1. union of two sets:\n",
        "> The union of two sets A and B include all the elment from two sets, removes duplicates\n",
        "![download.png](data:image/png;base64,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)"
      ],
      "metadata": {
        "id": "zc2w-GtU-1p9"
      }
    },
    {
      "cell_type": "code",
      "source": [
        "#union of two sets:\n",
        "a = {1,2,3,4,5}\n",
        "b = {3,4,5,6,7}\n",
        "print(a.union(b))\n"
      ],
      "metadata": {
        "colab": {
          "base_uri": "https://localhost:8080/"
        },
        "id": "SGLOGlLR_MFE",
        "outputId": "ee7ce5b5-9931-4a3f-f3d1-0cb4d8493b3f"
      },
      "execution_count": 1,
      "outputs": [
        {
          "output_type": "stream",
          "name": "stdout",
          "text": [
            "{1, 2, 3, 4, 5, 6, 7}\n"
          ]
        }
      ]
    },
    {
      "cell_type": "code",
      "source": [
        "#union of two sets:\n",
        "a = {1,2,3,4,5}\n",
        "b = {3,4,5,6,7}\n",
        "print(a|b)"
      ],
      "metadata": {
        "colab": {
          "base_uri": "https://localhost:8080/"
        },
        "id": "sp19QmF3_Y2L",
        "outputId": "bad435b8-9e72-46bc-f2a4-4f24f599531f"
      },
      "execution_count": 2,
      "outputs": [
        {
          "output_type": "stream",
          "name": "stdout",
          "text": [
            "{1, 2, 3, 4, 5, 6, 7}\n"
          ]
        }
      ]
    },
    {
      "cell_type": "code",
      "source": [
        "#union of two sets:\n",
        "a = {1,2,3,4,5}\n",
        "b = {3,4,5,6,7}\n",
        "print(a.update(b))\n",
        "print(a)"
      ],
      "metadata": {
        "colab": {
          "base_uri": "https://localhost:8080/"
        },
        "id": "gvabaaZf_cS8",
        "outputId": "45cbbaf2-3774-4356-90dc-abcff7dcb3d4"
      },
      "execution_count": 3,
      "outputs": [
        {
          "output_type": "stream",
          "name": "stdout",
          "text": [
            "None\n",
            "{1, 2, 3, 4, 5, 6, 7}\n"
          ]
        }
      ]
    },
    {
      "cell_type": "markdown",
      "source": [
        "2. set intersection():\n",
        "> Two sets A and B includes the common elment between A & B\n",
        "![download (1).png](data:image/png;base64,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)"
      ],
      "metadata": {
        "id": "DJKTPASI_hzk"
      }
    },
    {
      "cell_type": "code",
      "source": [
        "#set intersection():-\n",
        "a = {1,2,3,4}\n",
        "b = {3,4,5,6}\n",
        "print(a.intersection(b))"
      ],
      "metadata": {
        "colab": {
          "base_uri": "https://localhost:8080/"
        },
        "id": "EpZiyJTH_xoh",
        "outputId": "2e9e8552-3af8-495d-dde8-14a1a2f58c17"
      },
      "execution_count": 4,
      "outputs": [
        {
          "output_type": "stream",
          "name": "stdout",
          "text": [
            "{3, 4}\n"
          ]
        }
      ]
    },
    {
      "cell_type": "code",
      "source": [
        "#set intersection():-\n",
        "a = {1,2,3,4}\n",
        "b = {3,4,5,6}\n",
        "print(a&b)"
      ],
      "metadata": {
        "colab": {
          "base_uri": "https://localhost:8080/"
        },
        "id": "bJXn5-wU_7C1",
        "outputId": "99817af3-b4b2-4745-e6dc-7040494ca512"
      },
      "execution_count": 5,
      "outputs": [
        {
          "output_type": "stream",
          "name": "stdout",
          "text": [
            "{3, 4}\n"
          ]
        }
      ]
    },
    {
      "cell_type": "markdown",
      "source": [
        "3. difference between two sets:-\n",
        "> two set A and B includes elments of set A that are not present on set B return elments that are in the first set but not in the second\n",
        "![download (2).png](data:image/png;base64,iVBORw0KGgoAAAANSUhEUgAAAPMAAADQCAMAAADlEKeVAAABrVBMVEX///8mfwEAAAD//v////37+/slfgDs7Oz8/Pz4+Pj19fXb29vw8PD//+zY2NgwMDDNzc3//N7l5eWgoKB1dXUscRAjegCoqKi2trbJyclvb2+amppqamozehdDQ0MSEhK/v79WVlYufw85LCKPgW4AAA+NjY0aGhqEhIS4uLhLS0snJydBQUEAACWPorT///I4ODg5eCDN2+L38egaAACSp4kAJgB5kHEhdABEhC6Ih4iGq3dPXkhrgGFXVVhuemk/SFTg8/doVERqhJqwmHoqS2dELxuZg2rm07tvgZK2r6VSX2uLe2snHxyru8L27dFVSzqfs8V3bWEdKT7Hs51WQTBZbH6/z9l+kqR5ZE0yP1DUzLrS6vRJOS6wyNyooYsgAAAHGCokFgAhLzgwOSwmNR8AHAA1TyqrwqFPckI3YiYADgAeMxJolVdyp15AcipmhFpWgEScxotaZFRUaEl2omVMgjipxZogGSNgl000LzZZalM8RTd7mW5hi1EpOCIyViMhORQ0WiVqkl0mLCMoZA8JIAUdTwy40KuCj3k3QzOMvXmjspsBGzwnGRBrm6z5AAAPZUlEQVR4nO1diV/bRhYWY1nGNtiubCQf8iEn+G4xIcQCHyTdHmnSJj3SI02PbTdHKUuAxBCcQEi2kGwStn/zjmRjDMi2RnrCgej7tcYmWDOf3pt3zSGKsmDBggULFixYsNAftkF3YJCgB90BC+bhXRNui+87PaDfHUwFg9kg/t836I4cE2S1njp7Bl3MBPDLpUF359hAT5xFH2DqH6J/KB8HbtUmpljT2xhVONMfoY9Nb0oTRj9B35veRpPzp4qcBy5lirqM0GfDJrehcKavnL/6doznic+/QO+b3RXMWcbFa2bfXG24fj74JfrKZIVrytnzNfrmbRA0fWP80g1kts41xzM1+q3yY8CgRz/8Dot6/Cdzm2lxbhmxQeMyNtr0TfSDua20OE/cfAvkTGOXGc5kvkQ/NpWbNideaMUk9C2ETFYoLZ157+cwjoSvnEG/KB/BG2gmVFO//owuplIiGjc9EujXHZsNq/Y5/HbiI/Sdaa1gTPl5nvf7+VDzd4OKPXG7Nvxy82PZY9KX//mbOUpHd7zuN20bYD5NXz9/TXlzHMbFdoD7oAJQ+tbv6F+yxZ74GgdJV81ryHZAmwcnZPm2T3ncHjd+T7sxPGY2pQj2Xa8QvWv834Jk0oIFCxYsWLBgwYIFCxYsWLBgBPSBN6cu1e9N6FRxPlCWGmE9iUhAqOUwYrmaEIhkPW5H+59PC+c9uNhgoFa4fefuvXppeveP+T//+GO6VL134c7tDTHAsyPy3ygF28Gvf4HBCB8uLvy7tLm0eJ9jOAyJYST5J8fcX1xaLj1f8Ap+xymqVLKRGNoorbyRGXLcUBMM/o+R3yi/5O6vlCqomFJK4YPur2HY+QKaKz2Icm22La4HIYv+QekVyvtdmi7r9AUjgVgcteEVU3zC/CVZGuDOoIfLD6JJjlEkexAt7u1bwCWl8vITFO4z3THs40WE0mImEgx5WNcwvgEjrC/rTwlFhFUl4ej9dZPhEdL1xRmFcG+0/4BLzjTq27VQ10uyWRHlhYjP5VT5R7uT5QMx5I14jnvxkDwe5alQj7BdXZ3pT/iwls8sLt+uqa5VdQRz6VzEPdKzeacjKOS9GbcZ1LqiaYMcAV2MW6xL2wJ76IrDnnC6yGsbsSMhIZ4L9r43wMB95BHWaq4/PzUwQ1x0cRlFWupL22TO2RzKkMxrjgS96dRxDm134UV5TJeM27yl8ut8U8FlxsE04rUZ9A74RBQ4HlnjLkbQ9KI0pGKpSSA1plGmeckEQlldfWHDKKNm7MDhKGxgIeuT7iFRPxnH49dTREHdnWEF5Afk1gUJVFpJGhHwPunk2iYKZtoDWx98Ba/ZGxYiC9MN7ojMiOk2X7lyBCGjXsfuN1fB7YHtsmrMpYt4dLE0zucEw3aIzeXNc9cuYeuRBEFXgVR+WGAppxgz7nIiiAegpwZXrD5jiHJn9sFFlxdmlcsG0sZzBx8K2A1fRAWux/UZEKVWKN+fbjuoFDIuaVfMa4Kvdq1XASk35tb3pRsBIE1lDFvDIxh+DEr5SaFTLKk4AGk/gnZatTqOr4FIc2uV3MHhF4gRh55HEUTdk1Q9yLxegpPyWr12+PqiAJATZ0FJ8wuPdGZRKpQb9doRgs7iLEA3g4Dq7UNlML/MNaoFFb/CGoi69+FHADUzpT47sj4NRpm5X1pXHbsJiO5iv2fcZSmca9UGmGZL8+NdbHQkbbi3GBkvSLGM31iEo1zGQ069uD8cgxjSdjEMcBV2fDMKRZkrL/Bdl16zIFGFIw4Qe9dKYMEI06j3kkKkaLy3ssE1bBgS22twmr08bu81SQchImzHvEavAKvZvYOGEIDVxchHjH3fv7EKJWZm5l6gT2tixlhvm9BtGGzy3kfKhZ5CuGbFIEjT6/2KOCyIk6ZSMUPfrsBpdmOrf0k3AOFpqOG0gaBuJP8UTLPXqkcyi6Nwx0EEncjrNwz+LRg/xcgGLK1lciYMMqKpnG4z5ixOwxmwV4KWJj0wptsXJ78MrSx2CW2BGW2urNGYijAlTJFc0M24obYsARWzh7i6JjHL83XEnVWDD+kr9LPbS1AFfO4+0jjV6tT6h32QI9WXZhbA32tARdrJkmaXGYBIr+RCka6vFTbBLFh0Q7PH9Onr7GHYddWJ2O0VKDFzqwREgArVs/0C3cOQk58g2LwFdlQE8VXYYIrQgluPvgjPwPLmtQ2CKmwwp6OzKkAJHd8pQw1n6RHJPXcgmPVfEVLlxsN5YQeI8pD0TKNzbgKoSk3som14OK9BDefGwwRJ2wLMgKbIPX0KblJucpsoW+JBEkp871Kk38jNgw3n8mOilkNFmAUiQZH0G4AmbJ7MmrAwuRXlIc6iEdS0HLO6IRdICBarQ8zBU3IoRjSkaHyzx2AoDzGLGx6KiHMcaE7VS7K+0EZTieeTQJyHloos2bExxDlRFwQIiy58HYoztxwbJuMcJja4XTgQhQUU5a9CcZYe1Qh3nqTIIyhVhAij2FQJinN0mdTf+oEctI9wAVVqGozzfFNVtat3kFAnu8GdJ6scp3YngcKw6DNSkwTF2UG4EBRzhqE8FL2QIOxrFoizK08WcQPq9gJpngQlZ8o7MM7E+Q2pj+mKIlnLETi7TVzg0pHtq4OQM5x/JuecgZm0IuYcBIvDyHUbqmhAyjkEFm9H+6yoOIoCULw9TGjDWLQExfkC6fYpqGWbLtKNGmD5c/SZsgeKIMsAyp9xTEI4gz++CRWHzSszUNo5u4HqJKSxJ03V/gMl501Cd5uIAW0o8RVJlsLTNHbQQHVP4lzSD+WeSXNJKlsBSjK4lRhZHVOE2gPpJ43nHAiqpr9WJDMlYDtoyAvc40DFXmZ1g8j3sDAT0Bh54lpi4CWMnJnGa6IYgycuxXeBi3xVYaICpNzSMtG4Alo5hE2Yl3gH00j8L7XzVcjBrZLM3dihIhLSlFRZZF1bBhrQk7cJ4t5snIxZd+R02P9sBWbdENOoBLXPY4AlVRT5cKYph3ceaEDP1zRzHoFZzowRSusJ58LVKAhp6ZH2KX8/yKYMGfoqD77bqyAbQ5m1h1rTSXtB37kdKtCZkcamJZC1jzNa1m4rCCGoDeu61tZh2529C5NncPe1KreO9bhdENA50ecsALmr6BNtfsOXhnLOOoKwFnighfrJzXVN7YlAs7DYFhb0ftPuXQbZd8M0XiQ0NOeD2OSvwFnU0p46stsw2RVX15I5FMFGs6Fo7nHJ+G4jZQuKBteRTUOdojNsoFxso9wIZiewtNu/UKNnVao6srpisBZsVGAOIqVkuPJ2P0YBqMSZsueNnRTgXAcpBjLR5UJvzfVBlXhlo21waXBoW2UzHfldYBqv/c0kVb3SPQKzE1iGw+ihHTSVqYBss5Km02yP3c9hMM2mBENrcJQeOmPV9ppAA5uPmMmjZ7Hsg9ex860LQsYqLbSiiCzahIhMuNU7XU2LD/A4FcNHnShPgA0hkMPSpHI3M+UAPPVMABgksn7zaEVtSDNRooHOTFbVq4HOOFicTQV17ho8itkt1aMcFsgW/3LlimrxogC08I+SN9YCDJKWoRUq8mE0iv1KRsfGxnZ2dpjkGOmCZ2n1hcpgE3NgJzc6vBAh+55zqVX2TuB5+eLFXYznyZfPiRd5c0/jh+VgDxfBDvOzi1DLrBQM1yot9d55ubMzJknJl2iHmDPTmI67DxRBnYIX7nzOMJzGNCFsrSUV/9zU8B20kyRfzM+tldYdHZxdIuFMbS9kDJxj0O2S6L9tl8XsoJdDOjgPMTPVdZfy7Gj5ko40xAlx7f7BHk9NY2CXNS21BvXOwsshXZxl0m037UNwTgqasq2VGYTQq1VJVu2xhWdJnZxlN90q0EVATodrAVrKbbCFyl84tRx78Vw+nVkfZyzpkrw2cESIwz0z2i54TaDcTAGdme3NxtiF50rFSCdnTHoaJUJ5AeCEyxYcYg7+INf9JDCRn6u8aHFd0Fks4xZ3EeTBwp582IwDe/fdy0gBVSeV8/Q74m2iDJOb3NwWC3Bi5k0/bp1Hifi9zTVJZyLNcJPlOkrgEQiUPw4LQOd7dEdQXsvEo0q5oYc1w62Vq6gZFGdBjpBOILgKiypo3IRSbHJG4pVNYtYM1/irjmZdLYvoEA2Xdx2CzqcuEMCDXWpzaI9EvHeeLs5IDNMqGfXjz0iTjZUtr/wsD3rPPATTopEVcM4ICpj+aBC201q4grnb9fLamtR/fREzJM00yvXXBb7lUuhW9dOR0d/r4Ww+ZvZTE5oFjc7SJe0J5DeePFia4VQXJDCtF06amXxUfZgWfCrBtVtAs3pY2xOFOGAY1xXFowUNVyiAbj+ZfyBFO5/ctQf8q+jM2JuV+gYSEoqIm/I9UPL1iChAOlvs5IuIN+UQ/UMQY+3eKsX5vZ77/DF0d6765+obKZlsPo+OkzgOv39TXqrPbaPHkZBt72tqJW53AOVIZObOIKIN3foR7rWmx8OncgihO5W5V7u79We7u6/mKlv4F7FZXsuYs/NeFE5oyivdEYRMeoLVkSmW2f4Z+TAb4iOpWYzMbCrCJ9wkyTGb8iIx2Du8cCQyCIWPR8QYEZgzGXvBzkbEdFz0+1SeVmZnPdmAF8UyIbjM5BBoxZl0DD1HQWOAp1QX9MPhjgiFfL4gBlJ8wudxe3yJoD8j5Lx5r5hJsMfy8KY2VG5vr700Rh6hOcx6fDzmWSh6vd5iMScGIgkPa5p8YWAzxnlgmLiVOtfzD2w9dfhEch79Fn0m/+xKzEZdaT3m8+qRm3MyH5FKX0bom0vUke53Rp4T7515/xw18Ssa/+nwt83unimYOBv7GX0lvzvY/85PtMKZGv0EfXCcXTMJNmr0vP8Guiq/73xss+3ADdjn/NWx99AE0LfQT1O/t3S2w1ipcb6FLl463t6Zg9GbVy9N3EQ/tD7abGp2GHMeD2cE9NmpoExdR7/IZux/nQHzEcOEOaPZIC+ib74/xq6ZBfpGyw39QjVdrazetDuI0eGXWrpN/Yp+O2y4TyDe+1b2zfSn6LvmZ0W18UeMH/ZFv8f5+t/KvTnhuIxkbaWvI9QxVGmnC6Mjyt/jPHrm5HOmJ84qA5nGVqyrF6L3Od9qRi8nGhOXzyimmJ76FH18qWveT09dPzN+jWWv/I2uHWPvzMGtv/P5HzFV+vMvvPnfupcKrnzh9abj8Xzm3AkNNvfRDkH6JP+GagNvK5qcbD2onSraHWR6ZcKnlDN9UjNDPTiRlQ5DOFVaa8GCBQsWLFiwYOEtwf8B62rMkrRJhaMAAAAASUVORK5CYII=)"
      ],
      "metadata": {
        "id": "zmiRzYa-ABEd"
      }
    },
    {
      "cell_type": "code",
      "source": [
        "#difference between two sets():-\n",
        "a = {1,2,3,4}\n",
        "b = {3,4,5,6}\n",
        "print(a.difference(b))"
      ],
      "metadata": {
        "colab": {
          "base_uri": "https://localhost:8080/"
        },
        "id": "2popq__ZAgXJ",
        "outputId": "4c3dc482-a166-4596-9e67-45b78b1db2c7"
      },
      "execution_count": 6,
      "outputs": [
        {
          "output_type": "stream",
          "name": "stdout",
          "text": [
            "{1, 2}\n"
          ]
        }
      ]
    },
    {
      "cell_type": "code",
      "source": [
        "#difference between two sets():-\n",
        "a = {1,2,3,4}\n",
        "b = {3,4,5,6}\n",
        "print(a-b)"
      ],
      "metadata": {
        "colab": {
          "base_uri": "https://localhost:8080/"
        },
        "id": "kEX2IoqaAmh2",
        "outputId": "183fa61c-7ca7-4bcc-f924-8c1b24fc132b"
      },
      "execution_count": 7,
      "outputs": [
        {
          "output_type": "stream",
          "name": "stdout",
          "text": [
            "{1, 2}\n"
          ]
        }
      ]
    },
    {
      "cell_type": "markdown",
      "source": [
        "4. set symmetric difference():-\n",
        "> The symmetric difference between two sets A and B includes all elment will be removed return elment that are in either of sets,but not in both\n",
        "![images.png](data:image/png;base64,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)"
      ],
      "metadata": {
        "id": "Kk-7kpQRAqpT"
      }
    },
    {
      "cell_type": "code",
      "source": [
        "#set symmetric difference():-\n",
        "a = {1,2,3,4}\n",
        "b = {3,4,5,6}\n",
        "print(a.symmetric_difference(b))"
      ],
      "metadata": {
        "colab": {
          "base_uri": "https://localhost:8080/"
        },
        "id": "DXb6kjwuApvA",
        "outputId": "508d2311-0b32-45aa-cd1c-028aea483656"
      },
      "execution_count": 8,
      "outputs": [
        {
          "output_type": "stream",
          "name": "stdout",
          "text": [
            "{1, 2, 5, 6}\n"
          ]
        }
      ]
    },
    {
      "cell_type": "code",
      "source": [
        "#set symmetric difference():-\n",
        "a = {1,2,3,4}\n",
        "b = {3,4,5,6}\n",
        "print(a^b)"
      ],
      "metadata": {
        "colab": {
          "base_uri": "https://localhost:8080/"
        },
        "id": "GPjk_5J4BNlK",
        "outputId": "f39ce068-296c-449e-890a-b282aac7013e"
      },
      "execution_count": 9,
      "outputs": [
        {
          "output_type": "stream",
          "name": "stdout",
          "text": [
            "{1, 2, 5, 6}\n"
          ]
        }
      ]
    },
    {
      "cell_type": "code",
      "source": [],
      "metadata": {
        "id": "uH1875_rBSI_"
      },
      "execution_count": null,
      "outputs": []
    }
  ]
}