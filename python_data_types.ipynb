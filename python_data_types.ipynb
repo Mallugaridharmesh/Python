{
  "nbformat": 4,
  "nbformat_minor": 0,
  "metadata": {
    "colab": {
      "provenance": [],
      "authorship_tag": "ABX9TyO5npqddl8GcLD/oJGVrpnl",
      "include_colab_link": true
    },
    "kernelspec": {
      "name": "python3",
      "display_name": "Python 3"
    },
    "language_info": {
      "name": "python"
    }
  },
  "cells": [
    {
      "cell_type": "markdown",
      "metadata": {
        "id": "view-in-github",
        "colab_type": "text"
      },
      "source": [
        "<a href=\"https://colab.research.google.com/github/Mallugaridharmesh/Python/blob/main/python_data_types.ipynb\" target=\"_parent\"><img src=\"https://colab.research.google.com/assets/colab-badge.svg\" alt=\"Open In Colab\"/></a>"
      ]
    },
    {
      "cell_type": "markdown",
      "source": [
        "# Data types\n",
        "\n",
        "\n",
        "1.  Basic\n",
        "*   integer\n",
        "*   float\n",
        "*   complex\n",
        "*   Boolean\n",
        "2.  Advance\n",
        "*   list\n",
        "*   string\n",
        "*   tuple\n",
        "*   Dictionary\n",
        "*   set\n",
        "\n"
      ],
      "metadata": {
        "id": "kF7zyABzKh4P"
      }
    },
    {
      "cell_type": "markdown",
      "source": [
        "# Basic\n",
        "* integer:-\n",
        "\n",
        "\n",
        "> Int, or integer, is a whole number, positive or negative, without decimals, of unlimited length.\n",
        "\n",
        "\n"
      ],
      "metadata": {
        "id": "bFL5WaamLe1v"
      }
    },
    {
      "cell_type": "code",
      "source": [
        "x = 1\n",
        "y = 3\n",
        "z = -3\n",
        "print(type(x))\n",
        "print(type(y))\n",
        "print(type(z))\n",
        "\n"
      ],
      "metadata": {
        "colab": {
          "base_uri": "https://localhost:8080/"
        },
        "id": "lDmEUx8Lv_HY",
        "outputId": "be796528-8027-4872-9ad0-3b1261dea7db"
      },
      "execution_count": null,
      "outputs": [
        {
          "output_type": "stream",
          "name": "stdout",
          "text": [
            "<class 'int'>\n",
            "<class 'int'>\n",
            "<class 'int'>\n"
          ]
        }
      ]
    },
    {
      "cell_type": "markdown",
      "source": [
        "* float(decimal value):\n",
        "\n",
        "\n",
        "> Float, or \"floating point number\" is a number, positive or negative, containing one or more decimals.\n",
        "\n",
        "\n"
      ],
      "metadata": {
        "id": "bM94y5pnyLZt"
      }
    },
    {
      "cell_type": "code",
      "source": [
        "x = 6.2\n",
        "y = -4.2\n",
        "z = 6.234\n",
        "print(type(x))\n",
        "print(type(y))\n",
        "print(type(z))\n",
        "print(x)\n",
        "\n"
      ],
      "metadata": {
        "colab": {
          "base_uri": "https://localhost:8080/"
        },
        "id": "kd5qgu0nwC5y",
        "outputId": "1f96d4fe-e270-4d0c-ef67-8e26b565a644"
      },
      "execution_count": null,
      "outputs": [
        {
          "output_type": "stream",
          "name": "stdout",
          "text": [
            "<class 'float'>\n",
            "<class 'float'>\n",
            "<class 'float'>\n",
            "6.2\n"
          ]
        }
      ]
    },
    {
      "cell_type": "markdown",
      "source": [
        "* complex(real number + imaginary number(J)):\n",
        "> Complex numbers are written with a \"j\" as the imaginary part:"
      ],
      "metadata": {
        "id": "4SDYG4JiyyDO"
      }
    },
    {
      "cell_type": "code",
      "source": [
        "x = (4+2j)\n",
        "print(type(x))"
      ],
      "metadata": {
        "colab": {
          "base_uri": "https://localhost:8080/"
        },
        "id": "ESN2Scq4yvyo",
        "outputId": "a62bd7a1-918c-41c5-9841-49e3f93dce8f"
      },
      "execution_count": null,
      "outputs": [
        {
          "output_type": "stream",
          "name": "stdout",
          "text": [
            "<class 'complex'>\n"
          ]
        }
      ]
    },
    {
      "cell_type": "markdown",
      "source": [
        "* Boolean\n",
        "> In programming you often need to know if an expression is True or False.\n",
        "\n",
        "You can evaluate any expression in Python, and get one of two answers, True or False.\n",
        "\n"
      ],
      "metadata": {
        "id": "OuKBTwD20VIU"
      }
    },
    {
      "cell_type": "code",
      "source": [
        "print (7>1)"
      ],
      "metadata": {
        "colab": {
          "base_uri": "https://localhost:8080/"
        },
        "id": "3DNEy-yHzUxH",
        "outputId": "e676a1eb-308f-4950-ce15-44c9803fa7b0"
      },
      "execution_count": null,
      "outputs": [
        {
          "output_type": "stream",
          "name": "stdout",
          "text": [
            "True\n"
          ]
        }
      ]
    },
    {
      "cell_type": "code",
      "source": [
        "a=7>1\n",
        "b=7<1\n",
        "c=10<11\n",
        "d=7>10\n",
        "print(a)\n",
        "print(b)\n",
        "print(c)\n",
        "print(d)"
      ],
      "metadata": {
        "colab": {
          "base_uri": "https://localhost:8080/"
        },
        "id": "uvCCwwKq2sRn",
        "outputId": "665e1570-40f0-4378-fb6a-4f9f9ea6e89e"
      },
      "execution_count": null,
      "outputs": [
        {
          "output_type": "stream",
          "name": "stdout",
          "text": [
            "True\n",
            "False\n",
            "True\n",
            "False\n"
          ]
        }
      ]
    },
    {
      "cell_type": "markdown",
      "source": [
        "# operators\n",
        "* arithmetic operator\n",
        "* assigment operator\n",
        "* complex operator\n",
        "* logical operator\n",
        "* identity operator\n",
        "* membership operator"
      ],
      "metadata": {
        "id": "JsNbPO-J32-P"
      }
    },
    {
      "cell_type": "markdown",
      "source": [
        "* arithmetic operator\n",
        "> Arithmetic operators are used with numeric values to perform common mathematical operations:\n"
      ],
      "metadata": {
        "id": "yv0cUfLg4Tjd"
      }
    },
    {
      "cell_type": "code",
      "source": [
        "a=4\n",
        "b=7\n",
        "print(a+b)\n",
        "print(a-b)\n",
        "print(a*b)\n",
        "print(a/b)\n",
        "print(a%b)\n",
        "print(a**b)\n",
        "print(a//b)"
      ],
      "metadata": {
        "colab": {
          "base_uri": "https://localhost:8080/"
        },
        "id": "SMwxxmCM4tLA",
        "outputId": "8223163e-d06e-43f9-a7b5-4b975137977e"
      },
      "execution_count": null,
      "outputs": [
        {
          "output_type": "stream",
          "name": "stdout",
          "text": [
            "11\n",
            "-3\n",
            "28\n",
            "0.5714285714285714\n",
            "4\n",
            "16384\n",
            "0\n"
          ]
        }
      ]
    },
    {
      "cell_type": "markdown",
      "source": [
        "* Assigment operator\n",
        "Assignment operators are used to assign values to variables:"
      ],
      "metadata": {
        "id": "l_jrrJbL5Ohc"
      }
    },
    {
      "cell_type": "code",
      "source": [
        "    a = 5\n",
        "    b = 3\n",
        "    a = b\n",
        "    print(a)\n",
        "    a += b\n",
        "    print(a)\n",
        "    a -= b\n",
        "    print(a)\n",
        "    a *= b\n",
        "    print(a)\n",
        "    a /= b\n",
        "    print(a)\n",
        "    a %= b\n",
        "    print(a)\n",
        "    a **= b\n",
        "    print(a)\n",
        "    a //= b\n",
        "    print(a)"
      ],
      "metadata": {
        "colab": {
          "base_uri": "https://localhost:8080/"
        },
        "id": "Cc70S_Es5eL0",
        "outputId": "d2d97f7a-0a48-450f-c13d-dd76050915db"
      },
      "execution_count": null,
      "outputs": [
        {
          "output_type": "stream",
          "name": "stdout",
          "text": [
            "3\n",
            "6\n",
            "3\n",
            "9\n",
            "3.0\n",
            "0.0\n",
            "0.0\n",
            "0.0\n"
          ]
        }
      ]
    },
    {
      "cell_type": "markdown",
      "source": [
        "* complex operator\n",
        "> are used to compare two values:\n",
        "* == \tEqual\n",
        "* != \tNot equal\n",
        "*   > \tGreater than\n",
        "* < \tLess than\n",
        "* >>= \tGreater than or equal to\n",
        "* <= \tLess than or equal to"
      ],
      "metadata": {
        "id": "_RyaINTw_AvG"
      }
    },
    {
      "cell_type": "code",
      "source": [
        "    a = 5\n",
        "    b = 3\n",
        "    print(a == b)\n",
        "    print(a!=b)\n",
        "    print(a<b)\n",
        "    print(a>b)\n",
        "    print(a<=b)\n",
        "    print(a>=b)\n"
      ],
      "metadata": {
        "colab": {
          "base_uri": "https://localhost:8080/"
        },
        "id": "nrKvfiYP_P06",
        "outputId": "76d4f9c9-432b-4dff-e654-243d347e9838"
      },
      "execution_count": null,
      "outputs": [
        {
          "output_type": "stream",
          "name": "stdout",
          "text": [
            "False\n",
            "True\n",
            "False\n",
            "True\n",
            "False\n",
            "True\n"
          ]
        }
      ]
    },
    {
      "cell_type": "markdown",
      "source": [
        "* logical operator(And , or , not)\n",
        "> And :Returns True if both statements are true\n",
        "*  Or :Returns True if one of the statements is true\n",
        "> Not : Reverse the result, returns False if the result is true(F->T,T->F)"
      ],
      "metadata": {
        "id": "ZqwVtkzyATdY"
      }
    },
    {
      "cell_type": "code",
      "source": [
        "#And\n",
        "n = 8>4 and 5<13\n",
        "print(n)"
      ],
      "metadata": {
        "colab": {
          "base_uri": "https://localhost:8080/"
        },
        "id": "5XLef6ssBhiU",
        "outputId": "c296a25b-df0b-4692-fcfb-3b47309f3e64"
      },
      "execution_count": null,
      "outputs": [
        {
          "output_type": "stream",
          "name": "stdout",
          "text": [
            "True\n"
          ]
        }
      ]
    },
    {
      "cell_type": "code",
      "source": [
        "#Or\n",
        "n = 8>4 or 5<13\n",
        "print(n)"
      ],
      "metadata": {
        "colab": {
          "base_uri": "https://localhost:8080/"
        },
        "id": "qhiS8xg2B5HW",
        "outputId": "e4f75858-08b5-40d6-863e-6dd63bacfe98"
      },
      "execution_count": null,
      "outputs": [
        {
          "output_type": "stream",
          "name": "stdout",
          "text": [
            "True\n"
          ]
        }
      ]
    },
    {
      "cell_type": "code",
      "source": [
        "#Not\n",
        "n = (8 > 4) and (not (5 < 13))\n",
        "print(n)"
      ],
      "metadata": {
        "colab": {
          "base_uri": "https://localhost:8080/"
        },
        "id": "HHYvFC1RCDqz",
        "outputId": "fecf6cfe-d098-4b94-efa7-c2e90abc55ee"
      },
      "execution_count": null,
      "outputs": [
        {
          "output_type": "stream",
          "name": "stdout",
          "text": [
            "False\n"
          ]
        }
      ]
    },
    {
      "cell_type": "markdown",
      "source": [
        "* identity operator:(is , is not)->command"
      ],
      "metadata": {
        "id": "eKQ-QvsyDUSq"
      }
    },
    {
      "cell_type": "code",
      "source": [
        "#is\n",
        "a = \"hello\"\n",
        "b = \"my world\"\n",
        "print( a is b)"
      ],
      "metadata": {
        "colab": {
          "base_uri": "https://localhost:8080/"
        },
        "id": "faUB_0zpCM0M",
        "outputId": "d2297487-1978-4589-f523-52aafc978044"
      },
      "execution_count": null,
      "outputs": [
        {
          "output_type": "stream",
          "name": "stdout",
          "text": [
            "False\n"
          ]
        }
      ]
    },
    {
      "cell_type": "code",
      "source": [
        "#is not\n",
        "a = \"hello\"\n",
        "b = \"my world\"\n",
        "print( a is not b)"
      ],
      "metadata": {
        "colab": {
          "base_uri": "https://localhost:8080/"
        },
        "id": "-DoHfWe7DtG1",
        "outputId": "26da7b1d-4758-41d7-b221-5154a11fbe15"
      },
      "execution_count": null,
      "outputs": [
        {
          "output_type": "stream",
          "name": "stdout",
          "text": [
            "True\n"
          ]
        }
      ]
    },
    {
      "cell_type": "markdown",
      "source": [
        "* membership operator:(in, not in )->command"
      ],
      "metadata": {
        "id": "HJ-jM8baEJMB"
      }
    },
    {
      "cell_type": "code",
      "source": [
        "#in\n",
        "a = \"hello\"\n",
        "b = \"my world\"\n",
        "print( a in b)"
      ],
      "metadata": {
        "colab": {
          "base_uri": "https://localhost:8080/"
        },
        "id": "nN5kBBNzETb0",
        "outputId": "792f891d-bad7-4a56-b36f-9085f186e1b8"
      },
      "execution_count": null,
      "outputs": [
        {
          "output_type": "stream",
          "name": "stdout",
          "text": [
            "False\n"
          ]
        }
      ]
    },
    {
      "cell_type": "code",
      "source": [
        "# not in\n",
        "a = \"hello\"\n",
        "b = \"my world\"\n",
        "print( a not in b)"
      ],
      "metadata": {
        "colab": {
          "base_uri": "https://localhost:8080/"
        },
        "id": "wDsH_YllEV1I",
        "outputId": "71ff13fc-c51f-42ed-d35e-563865fb30e7"
      },
      "execution_count": null,
      "outputs": [
        {
          "output_type": "stream",
          "name": "stdout",
          "text": [
            "True\n"
          ]
        }
      ]
    },
    {
      "cell_type": "markdown",
      "source": [
        "* List\n",
        "\n",
        "> Lists are created using square brackets:\n",
        "* mylist = [1,2,3,4,5,6]"
      ],
      "metadata": {
        "id": "2wtqYaq2B8xL"
      }
    },
    {
      "cell_type": "code",
      "source": [
        "#list\n",
        "thislist = [\"apple\", \"banana\", \"cherry\"]\n",
        "print(thislist)"
      ],
      "metadata": {
        "colab": {
          "base_uri": "https://localhost:8080/"
        },
        "id": "LJkHP6z7IQLX",
        "outputId": "2aed3e56-95cb-40fe-db6d-f89dfc197376"
      },
      "execution_count": null,
      "outputs": [
        {
          "output_type": "stream",
          "name": "stdout",
          "text": [
            "['apple', 'banana', 'cherry']\n"
          ]
        }
      ]
    },
    {
      "cell_type": "markdown",
      "source": [
        "* Index:-\n",
        "1. positive-(0,∞) left to right\n",
        "2. negative-(-1,-∞) right to left"
      ],
      "metadata": {
        "id": "0UhpM1kXJQey"
      }
    },
    {
      "cell_type": "code",
      "source": [
        "#positive\n",
        "a = [1,2,3,4,5,6,7,8,9]\n",
        "a[6]"
      ],
      "metadata": {
        "colab": {
          "base_uri": "https://localhost:8080/"
        },
        "id": "7ZaRHqsNKels",
        "outputId": "e58335fa-cb63-474b-f326-1861637b552d"
      },
      "execution_count": null,
      "outputs": [
        {
          "output_type": "execute_result",
          "data": {
            "text/plain": [
              "7"
            ]
          },
          "metadata": {},
          "execution_count": 2
        }
      ]
    },
    {
      "cell_type": "code",
      "source": [
        "#negative\n",
        "a = [-1,-2,-3,-4,-5,-6,-7,-8,-9]\n",
        "a[-3]"
      ],
      "metadata": {
        "colab": {
          "base_uri": "https://localhost:8080/"
        },
        "id": "mq-Yr1KcLLA9",
        "outputId": "93b2763b-0ab6-4d9a-fca2-ca4c97ce81d7"
      },
      "execution_count": null,
      "outputs": [
        {
          "output_type": "execute_result",
          "data": {
            "text/plain": [
              "-7"
            ]
          },
          "metadata": {},
          "execution_count": 3
        }
      ]
    },
    {
      "cell_type": "markdown",
      "source": [
        "*.concatenation\n",
        "> String concatenation means add strings together."
      ],
      "metadata": {
        "id": "Q4woXuZpMoIR"
      }
    },
    {
      "cell_type": "code",
      "source": [
        "#concatenation\n",
        "a=[1,2,3]\n",
        "b=[1,2,6,7]\n",
        "c=a+b\n",
        "print(c)"
      ],
      "metadata": {
        "colab": {
          "base_uri": "https://localhost:8080/"
        },
        "id": "-uzjtFZqNNwV",
        "outputId": "ab98da08-1df1-4a16-d41d-e723643a7725"
      },
      "execution_count": null,
      "outputs": [
        {
          "output_type": "stream",
          "name": "stdout",
          "text": [
            "[1, 2, 3, 1, 2, 6, 7]\n"
          ]
        }
      ]
    },
    {
      "cell_type": "markdown",
      "source": [
        "* Repetition\n",
        "> The repeat method is used to repeat a string a specified number of times."
      ],
      "metadata": {
        "id": "82qAlw0FNp9n"
      }
    },
    {
      "cell_type": "code",
      "source": [
        "#repetition\n",
        "a=[3,4,5,2]\n",
        "b=a*(4)\n",
        "print(b)"
      ],
      "metadata": {
        "colab": {
          "base_uri": "https://localhost:8080/"
        },
        "id": "Tx9a9oU4OFcw",
        "outputId": "2061d468-48b4-45a5-f6ca-a0b8dc009456"
      },
      "execution_count": null,
      "outputs": [
        {
          "output_type": "stream",
          "name": "stdout",
          "text": [
            "[3, 4, 5, 2, 3, 4, 5, 2, 3, 4, 5, 2, 3, 4, 5, 2]\n"
          ]
        }
      ]
    },
    {
      "cell_type": "markdown",
      "source": [
        "* change list items:-\n",
        "> To change the value of a specific items, refer to the index number:\n"
      ],
      "metadata": {
        "id": "1v14y4v6OwC8"
      }
    },
    {
      "cell_type": "code",
      "source": [
        "#change list items\n",
        "a=[\"dinesh\",\"ravi\",\"dharmesh\"]\n",
        "a[1]=\"chinna\"\n",
        "print(a)"
      ],
      "metadata": {
        "colab": {
          "base_uri": "https://localhost:8080/"
        },
        "id": "Bnl7jmMqPi0R",
        "outputId": "47bbc5b4-7240-484a-eff5-0c233dd09a72"
      },
      "execution_count": null,
      "outputs": [
        {
          "output_type": "stream",
          "name": "stdout",
          "text": [
            "['dinesh', 'chinna', 'dharmesh']\n"
          ]
        }
      ]
    },
    {
      "cell_type": "code",
      "source": [
        "#change the range of items list:example(4:5)\n",
        "a=[\"dinesh\",\"ravi\",\"dharmesh\"]\n",
        "a[2:2]=[\"chinna\"]\n",
        "print(a)"
      ],
      "metadata": {
        "colab": {
          "base_uri": "https://localhost:8080/"
        },
        "id": "mc2UqmTyPccB",
        "outputId": "db8c12c0-05ff-4063-87ed-2033f888d4ec"
      },
      "execution_count": null,
      "outputs": [
        {
          "output_type": "stream",
          "name": "stdout",
          "text": [
            "['dinesh', 'ravi', 'chinna', 'dharmesh']\n"
          ]
        }
      ]
    }
  ]
}