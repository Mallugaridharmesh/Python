{
  "nbformat": 4,
  "nbformat_minor": 0,
  "metadata": {
    "colab": {
      "provenance": [],
      "authorship_tag": "ABX9TyNcN9oeJYtHjI8bF6qNPF52",
      "include_colab_link": true
    },
    "kernelspec": {
      "name": "python3",
      "display_name": "Python 3"
    },
    "language_info": {
      "name": "python"
    }
  },
  "cells": [
    {
      "cell_type": "markdown",
      "metadata": {
        "id": "view-in-github",
        "colab_type": "text"
      },
      "source": [
        "<a href=\"https://colab.research.google.com/github/Mallugaridharmesh/Python/blob/main/tuples_Ace_immu%2Cmethods%2Coperators_%2CAdd%26up%2C.ipynb\" target=\"_parent\"><img src=\"https://colab.research.google.com/assets/colab-badge.svg\" alt=\"Open In Colab\"/></a>"
      ]
    },
    {
      "cell_type": "markdown",
      "source": [
        "* Accessing of tuples:-\n",
        "> tuples support index and slicing , just like lists\n"
      ],
      "metadata": {
        "id": "7WPtO1_SYViQ"
      }
    },
    {
      "cell_type": "code",
      "source": [
        "#Accessing of tuples :-\n",
        "fruits = (\"apple\",\"banana\",\"cherry\")\n",
        "print(fruits[1])#index\n",
        "print(fruits[0:7])#slicing\n"
      ],
      "metadata": {
        "colab": {
          "base_uri": "https://localhost:8080/"
        },
        "id": "ud_Hpyw_YtlF",
        "outputId": "19343bb6-d7bd-4917-eb06-b339465f8530"
      },
      "execution_count": null,
      "outputs": [
        {
          "output_type": "stream",
          "name": "stdout",
          "text": [
            "banana\n",
            "('apple', 'banana', 'cherry')\n"
          ]
        }
      ]
    },
    {
      "cell_type": "code",
      "source": [
        "#Accessing of tuples :-\n",
        "fruits = (\"apple\",\"banana\",\"cherry\")\n",
        "print(fruits[-1])#index\n",
        "print(fruits[-3:-1])#slicing"
      ],
      "metadata": {
        "colab": {
          "base_uri": "https://localhost:8080/"
        },
        "id": "6KoWx42OZJtH",
        "outputId": "778af06f-0aae-47c6-a266-4fbca1f17a3d"
      },
      "execution_count": null,
      "outputs": [
        {
          "output_type": "stream",
          "name": "stdout",
          "text": [
            "cherry\n",
            "('apple', 'banana')\n"
          ]
        }
      ]
    },
    {
      "cell_type": "code",
      "source": [
        "#Accessing of tuples :-\n",
        "fruits = (\"apple\",\"banana\",\"cherry\")\n",
        "print(fruits[0])#index\n"
      ],
      "metadata": {
        "colab": {
          "base_uri": "https://localhost:8080/"
        },
        "id": "byHmjCC6ZRmf",
        "outputId": "1d806c8b-997e-42a2-90d8-1826e3fd3fdb"
      },
      "execution_count": null,
      "outputs": [
        {
          "output_type": "stream",
          "name": "stdout",
          "text": [
            "apple\n"
          ]
        }
      ]
    },
    {
      "cell_type": "code",
      "source": [
        "#Accessing of tuples :-\n",
        "fruits = (\"apple\",\"banana\",\"cherry\")\n",
        "print(fruits[-3:-1])#slicing"
      ],
      "metadata": {
        "colab": {
          "base_uri": "https://localhost:8080/"
        },
        "id": "oRAGw7Y0ZTu1",
        "outputId": "54949b55-8d76-4202-f2ef-4d473f3779b3"
      },
      "execution_count": null,
      "outputs": [
        {
          "output_type": "stream",
          "name": "stdout",
          "text": [
            "('apple', 'banana')\n"
          ]
        }
      ]
    },
    {
      "cell_type": "code",
      "source": [
        "#Accessing of tuples :-\n",
        "fruits = (\"apple\",\"banana\",\"cherry\")\n",
        "print(fruits[0:2])#slicing\n"
      ],
      "metadata": {
        "colab": {
          "base_uri": "https://localhost:8080/"
        },
        "id": "xqpr1ijIZVos",
        "outputId": "5c17d11f-8f5a-47a3-81f6-e3bddf273267"
      },
      "execution_count": null,
      "outputs": [
        {
          "output_type": "stream",
          "name": "stdout",
          "text": [
            "('apple', 'banana')\n"
          ]
        }
      ]
    },
    {
      "cell_type": "code",
      "source": [
        "#Accessing of tuples :-\n",
        "fruits = (\"apple\",\"banana\",\"cherry\")\n",
        "print(fruits[-2:-1])#slicing"
      ],
      "metadata": {
        "colab": {
          "base_uri": "https://localhost:8080/"
        },
        "id": "FMcOhwdAZY82",
        "outputId": "5caee3fb-9c12-4f4b-d149-602aa8911070"
      },
      "execution_count": null,
      "outputs": [
        {
          "output_type": "stream",
          "name": "stdout",
          "text": [
            "('banana',)\n"
          ]
        }
      ]
    },
    {
      "cell_type": "code",
      "source": [
        "#Accessing of tuples :-\n",
        "fruits = (\"apple\",\"banana\",\"cherry\")\n",
        "print(fruits[0:1])#slicing"
      ],
      "metadata": {
        "colab": {
          "base_uri": "https://localhost:8080/"
        },
        "id": "Ua6Dr0OzZa7W",
        "outputId": "dad0c7b0-2647-45e2-b45d-c9ba854e9a33"
      },
      "execution_count": null,
      "outputs": [
        {
          "output_type": "stream",
          "name": "stdout",
          "text": [
            "('apple',)\n"
          ]
        }
      ]
    },
    {
      "cell_type": "code",
      "source": [
        "#Accessing of tuples :-\n",
        "fruits = (\"apple\",\"banana\",\"cherry\")\n",
        "print(fruits[2])#index"
      ],
      "metadata": {
        "colab": {
          "base_uri": "https://localhost:8080/"
        },
        "id": "fSfI9b_RZc_8",
        "outputId": "41593868-a60b-414f-ed54-a161177e5498"
      },
      "execution_count": null,
      "outputs": [
        {
          "output_type": "stream",
          "name": "stdout",
          "text": [
            "cherry\n"
          ]
        }
      ]
    },
    {
      "cell_type": "code",
      "source": [
        "#Accessing of tuples :-\n",
        "fruits = (\"apple\",\"banana\",\"cherry\")\n",
        "print(fruits[-1])#index"
      ],
      "metadata": {
        "colab": {
          "base_uri": "https://localhost:8080/"
        },
        "id": "xyFRtu1qZn3c",
        "outputId": "ce4d2745-91e2-402c-89cf-5ffbc12115c3"
      },
      "execution_count": null,
      "outputs": [
        {
          "output_type": "stream",
          "name": "stdout",
          "text": [
            "cherry\n"
          ]
        }
      ]
    },
    {
      "cell_type": "code",
      "source": [
        "#Accessing of tuples :-\n",
        "fruits = (\"apple\",\"banana\",\"cherry\")\n",
        "print(fruits[0:1])#slicing"
      ],
      "metadata": {
        "colab": {
          "base_uri": "https://localhost:8080/"
        },
        "id": "ypwE7OFFZvIC",
        "outputId": "1a37b030-fc65-4306-fa98-78477142ff63"
      },
      "execution_count": null,
      "outputs": [
        {
          "output_type": "stream",
          "name": "stdout",
          "text": [
            "('apple',)\n"
          ]
        }
      ]
    },
    {
      "cell_type": "markdown",
      "source": [
        "* immutability:-\n",
        "> once a tuple is created , you cannot change its elment or add/remove elments\n",
        "> it is (unchangeable)"
      ],
      "metadata": {
        "id": "oCrqXdp7Z2Tx"
      }
    },
    {
      "cell_type": "code",
      "source": [
        "#immutability:-\n",
        "fruits = (\"apple\",\"banana\",\"cherry\")\n",
        "fruits[1] = \"orange\"\n",
        "fruits"
      ],
      "metadata": {
        "colab": {
          "base_uri": "https://localhost:8080/",
          "height": 193
        },
        "id": "MNApFS6RaJR1",
        "outputId": "0ef55d21-10ef-438a-a75a-3ac69546bf9d"
      },
      "execution_count": null,
      "outputs": [
        {
          "output_type": "error",
          "ename": "TypeError",
          "evalue": "'tuple' object does not support item assignment",
          "traceback": [
            "\u001b[0;31m---------------------------------------------------------------------------\u001b[0m",
            "\u001b[0;31mTypeError\u001b[0m                                 Traceback (most recent call last)",
            "\u001b[0;32m<ipython-input-58-6925eabe17c3>\u001b[0m in \u001b[0;36m<cell line: 3>\u001b[0;34m()\u001b[0m\n\u001b[1;32m      1\u001b[0m \u001b[0;31m#immutability:-\u001b[0m\u001b[0;34m\u001b[0m\u001b[0;34m\u001b[0m\u001b[0m\n\u001b[1;32m      2\u001b[0m \u001b[0mfruits\u001b[0m \u001b[0;34m=\u001b[0m \u001b[0;34m(\u001b[0m\u001b[0;34m\"apple\"\u001b[0m\u001b[0;34m,\u001b[0m\u001b[0;34m\"banana\"\u001b[0m\u001b[0;34m,\u001b[0m\u001b[0;34m\"cherry\"\u001b[0m\u001b[0;34m)\u001b[0m\u001b[0;34m\u001b[0m\u001b[0;34m\u001b[0m\u001b[0m\n\u001b[0;32m----> 3\u001b[0;31m \u001b[0mfruits\u001b[0m\u001b[0;34m[\u001b[0m\u001b[0;36m1\u001b[0m\u001b[0;34m]\u001b[0m \u001b[0;34m=\u001b[0m \u001b[0;34m\"orange\"\u001b[0m\u001b[0;34m\u001b[0m\u001b[0;34m\u001b[0m\u001b[0m\n\u001b[0m\u001b[1;32m      4\u001b[0m \u001b[0mfruits\u001b[0m\u001b[0;34m\u001b[0m\u001b[0;34m\u001b[0m\u001b[0m\n",
            "\u001b[0;31mTypeError\u001b[0m: 'tuple' object does not support item assignment"
          ]
        }
      ]
    },
    {
      "cell_type": "code",
      "source": [
        "#immutability:-\n",
        "fruits = (\"apple\",\"banana\",\"cherry\")\n",
        "fruits.append(\"orange\")\n",
        "fruits"
      ],
      "metadata": {
        "colab": {
          "base_uri": "https://localhost:8080/",
          "height": 193
        },
        "id": "0z3fDiMzaT4I",
        "outputId": "c7490c58-dc6d-4c44-8c2f-e286f3526e09"
      },
      "execution_count": null,
      "outputs": [
        {
          "output_type": "error",
          "ename": "AttributeError",
          "evalue": "'tuple' object has no attribute 'append'",
          "traceback": [
            "\u001b[0;31m---------------------------------------------------------------------------\u001b[0m",
            "\u001b[0;31mAttributeError\u001b[0m                            Traceback (most recent call last)",
            "\u001b[0;32m<ipython-input-59-b5da5b134b55>\u001b[0m in \u001b[0;36m<cell line: 3>\u001b[0;34m()\u001b[0m\n\u001b[1;32m      1\u001b[0m \u001b[0;31m#immutability:-\u001b[0m\u001b[0;34m\u001b[0m\u001b[0;34m\u001b[0m\u001b[0m\n\u001b[1;32m      2\u001b[0m \u001b[0mfruits\u001b[0m \u001b[0;34m=\u001b[0m \u001b[0;34m(\u001b[0m\u001b[0;34m\"apple\"\u001b[0m\u001b[0;34m,\u001b[0m\u001b[0;34m\"banana\"\u001b[0m\u001b[0;34m,\u001b[0m\u001b[0;34m\"cherry\"\u001b[0m\u001b[0;34m)\u001b[0m\u001b[0;34m\u001b[0m\u001b[0;34m\u001b[0m\u001b[0m\n\u001b[0;32m----> 3\u001b[0;31m \u001b[0mfruits\u001b[0m\u001b[0;34m.\u001b[0m\u001b[0mappend\u001b[0m\u001b[0;34m(\u001b[0m\u001b[0;34m\"orange\"\u001b[0m\u001b[0;34m)\u001b[0m\u001b[0;34m\u001b[0m\u001b[0;34m\u001b[0m\u001b[0m\n\u001b[0m\u001b[1;32m      4\u001b[0m \u001b[0mfruits\u001b[0m\u001b[0;34m\u001b[0m\u001b[0;34m\u001b[0m\u001b[0m\n",
            "\u001b[0;31mAttributeError\u001b[0m: 'tuple' object has no attribute 'append'"
          ]
        }
      ]
    },
    {
      "cell_type": "code",
      "source": [
        "#immutability:-\n",
        "fruits = (\"apple\",\"banana\",\"cherry\")\n",
        "fruits.remove(\"apple\")\n",
        "fruits"
      ],
      "metadata": {
        "colab": {
          "base_uri": "https://localhost:8080/",
          "height": 193
        },
        "id": "hTX82iLIai_U",
        "outputId": "7c84a0e8-f81d-4db9-8c9c-ae17ed8b1fcd"
      },
      "execution_count": null,
      "outputs": [
        {
          "output_type": "error",
          "ename": "AttributeError",
          "evalue": "'tuple' object has no attribute 'remove'",
          "traceback": [
            "\u001b[0;31m---------------------------------------------------------------------------\u001b[0m",
            "\u001b[0;31mAttributeError\u001b[0m                            Traceback (most recent call last)",
            "\u001b[0;32m<ipython-input-60-013e4cb4968d>\u001b[0m in \u001b[0;36m<cell line: 3>\u001b[0;34m()\u001b[0m\n\u001b[1;32m      1\u001b[0m \u001b[0;31m#immutability:-\u001b[0m\u001b[0;34m\u001b[0m\u001b[0;34m\u001b[0m\u001b[0m\n\u001b[1;32m      2\u001b[0m \u001b[0mfruits\u001b[0m \u001b[0;34m=\u001b[0m \u001b[0;34m(\u001b[0m\u001b[0;34m\"apple\"\u001b[0m\u001b[0;34m,\u001b[0m\u001b[0;34m\"banana\"\u001b[0m\u001b[0;34m,\u001b[0m\u001b[0;34m\"cherry\"\u001b[0m\u001b[0;34m)\u001b[0m\u001b[0;34m\u001b[0m\u001b[0;34m\u001b[0m\u001b[0m\n\u001b[0;32m----> 3\u001b[0;31m \u001b[0mfruits\u001b[0m\u001b[0;34m.\u001b[0m\u001b[0mremove\u001b[0m\u001b[0;34m(\u001b[0m\u001b[0;34m\"apple\"\u001b[0m\u001b[0;34m)\u001b[0m\u001b[0;34m\u001b[0m\u001b[0;34m\u001b[0m\u001b[0m\n\u001b[0m\u001b[1;32m      4\u001b[0m \u001b[0mfruits\u001b[0m\u001b[0;34m\u001b[0m\u001b[0;34m\u001b[0m\u001b[0m\n",
            "\u001b[0;31mAttributeError\u001b[0m: 'tuple' object has no attribute 'remove'"
          ]
        }
      ]
    },
    {
      "cell_type": "code",
      "source": [
        "#immutability:-\n",
        "fruits = (\"apple\",\"banana\",\"cherry\")\n",
        "del fruits[1]\n",
        "fruits"
      ],
      "metadata": {
        "colab": {
          "base_uri": "https://localhost:8080/",
          "height": 193
        },
        "id": "s0LIQwLcamP6",
        "outputId": "9c19bbd3-48ca-4b32-d70e-3d6234db5ec0"
      },
      "execution_count": null,
      "outputs": [
        {
          "output_type": "error",
          "ename": "TypeError",
          "evalue": "'tuple' object doesn't support item deletion",
          "traceback": [
            "\u001b[0;31m---------------------------------------------------------------------------\u001b[0m",
            "\u001b[0;31mTypeError\u001b[0m                                 Traceback (most recent call last)",
            "\u001b[0;32m<ipython-input-61-77f4554dc53b>\u001b[0m in \u001b[0;36m<cell line: 3>\u001b[0;34m()\u001b[0m\n\u001b[1;32m      1\u001b[0m \u001b[0;31m#immutability:-\u001b[0m\u001b[0;34m\u001b[0m\u001b[0;34m\u001b[0m\u001b[0m\n\u001b[1;32m      2\u001b[0m \u001b[0mfruits\u001b[0m \u001b[0;34m=\u001b[0m \u001b[0;34m(\u001b[0m\u001b[0;34m\"apple\"\u001b[0m\u001b[0;34m,\u001b[0m\u001b[0;34m\"banana\"\u001b[0m\u001b[0;34m,\u001b[0m\u001b[0;34m\"cherry\"\u001b[0m\u001b[0;34m)\u001b[0m\u001b[0;34m\u001b[0m\u001b[0;34m\u001b[0m\u001b[0m\n\u001b[0;32m----> 3\u001b[0;31m \u001b[0;32mdel\u001b[0m \u001b[0mfruits\u001b[0m\u001b[0;34m[\u001b[0m\u001b[0;36m1\u001b[0m\u001b[0;34m]\u001b[0m\u001b[0;34m\u001b[0m\u001b[0;34m\u001b[0m\u001b[0m\n\u001b[0m\u001b[1;32m      4\u001b[0m \u001b[0mfruits\u001b[0m\u001b[0;34m\u001b[0m\u001b[0;34m\u001b[0m\u001b[0m\n",
            "\u001b[0;31mTypeError\u001b[0m: 'tuple' object doesn't support item deletion"
          ]
        }
      ]
    },
    {
      "cell_type": "code",
      "source": [
        "#immutability:-\n",
        "fruits = (\"apple\",\"banana\",\"cherry\")\n",
        "del fruits\n",
        "fruits"
      ],
      "metadata": {
        "colab": {
          "base_uri": "https://localhost:8080/",
          "height": 176
        },
        "id": "5Om49rQRapRL",
        "outputId": "c8f9a8c4-17a7-4905-977f-5c576e80cc53"
      },
      "execution_count": null,
      "outputs": [
        {
          "output_type": "error",
          "ename": "NameError",
          "evalue": "name 'fruits' is not defined",
          "traceback": [
            "\u001b[0;31m---------------------------------------------------------------------------\u001b[0m",
            "\u001b[0;31mNameError\u001b[0m                                 Traceback (most recent call last)",
            "\u001b[0;32m<ipython-input-62-2bec6276e990>\u001b[0m in \u001b[0;36m<cell line: 4>\u001b[0;34m()\u001b[0m\n\u001b[1;32m      2\u001b[0m \u001b[0mfruits\u001b[0m \u001b[0;34m=\u001b[0m \u001b[0;34m(\u001b[0m\u001b[0;34m\"apple\"\u001b[0m\u001b[0;34m,\u001b[0m\u001b[0;34m\"banana\"\u001b[0m\u001b[0;34m,\u001b[0m\u001b[0;34m\"cherry\"\u001b[0m\u001b[0;34m)\u001b[0m\u001b[0;34m\u001b[0m\u001b[0;34m\u001b[0m\u001b[0m\n\u001b[1;32m      3\u001b[0m \u001b[0;32mdel\u001b[0m \u001b[0mfruits\u001b[0m\u001b[0;34m\u001b[0m\u001b[0;34m\u001b[0m\u001b[0m\n\u001b[0;32m----> 4\u001b[0;31m \u001b[0mfruits\u001b[0m\u001b[0;34m\u001b[0m\u001b[0;34m\u001b[0m\u001b[0m\n\u001b[0m",
            "\u001b[0;31mNameError\u001b[0m: name 'fruits' is not defined"
          ]
        }
      ]
    },
    {
      "cell_type": "code",
      "source": [
        "#immutability:-\n",
        "fruits = (\"apple\",\"banana\",\"cherry\")\n",
        "fruits.clear()\n",
        "fruits"
      ],
      "metadata": {
        "colab": {
          "base_uri": "https://localhost:8080/",
          "height": 193
        },
        "id": "yFo632aQatcN",
        "outputId": "29672705-4e77-4d00-d248-44b8ffbc63ba"
      },
      "execution_count": null,
      "outputs": [
        {
          "output_type": "error",
          "ename": "AttributeError",
          "evalue": "'tuple' object has no attribute 'clear'",
          "traceback": [
            "\u001b[0;31m---------------------------------------------------------------------------\u001b[0m",
            "\u001b[0;31mAttributeError\u001b[0m                            Traceback (most recent call last)",
            "\u001b[0;32m<ipython-input-63-28ad5923addc>\u001b[0m in \u001b[0;36m<cell line: 3>\u001b[0;34m()\u001b[0m\n\u001b[1;32m      1\u001b[0m \u001b[0;31m#immutability:-\u001b[0m\u001b[0;34m\u001b[0m\u001b[0;34m\u001b[0m\u001b[0m\n\u001b[1;32m      2\u001b[0m \u001b[0mfruits\u001b[0m \u001b[0;34m=\u001b[0m \u001b[0;34m(\u001b[0m\u001b[0;34m\"apple\"\u001b[0m\u001b[0;34m,\u001b[0m\u001b[0;34m\"banana\"\u001b[0m\u001b[0;34m,\u001b[0m\u001b[0;34m\"cherry\"\u001b[0m\u001b[0;34m)\u001b[0m\u001b[0;34m\u001b[0m\u001b[0;34m\u001b[0m\u001b[0m\n\u001b[0;32m----> 3\u001b[0;31m \u001b[0mfruits\u001b[0m\u001b[0;34m.\u001b[0m\u001b[0mclear\u001b[0m\u001b[0;34m(\u001b[0m\u001b[0;34m)\u001b[0m\u001b[0;34m\u001b[0m\u001b[0;34m\u001b[0m\u001b[0m\n\u001b[0m\u001b[1;32m      4\u001b[0m \u001b[0mfruits\u001b[0m\u001b[0;34m\u001b[0m\u001b[0;34m\u001b[0m\u001b[0m\n",
            "\u001b[0;31mAttributeError\u001b[0m: 'tuple' object has no attribute 'clear'"
          ]
        }
      ]
    },
    {
      "cell_type": "code",
      "source": [
        "#immutability:-\n",
        "fruits = (\"apple\",\"banana\",\"cherry\")\n",
        "fruits.pop()\n",
        "fruits"
      ],
      "metadata": {
        "colab": {
          "base_uri": "https://localhost:8080/",
          "height": 193
        },
        "id": "WslgMUxuawVT",
        "outputId": "63a6abc0-966b-4212-d84f-0e923e0a5b56"
      },
      "execution_count": null,
      "outputs": [
        {
          "output_type": "error",
          "ename": "AttributeError",
          "evalue": "'tuple' object has no attribute 'pop'",
          "traceback": [
            "\u001b[0;31m---------------------------------------------------------------------------\u001b[0m",
            "\u001b[0;31mAttributeError\u001b[0m                            Traceback (most recent call last)",
            "\u001b[0;32m<ipython-input-64-9058e18a78bc>\u001b[0m in \u001b[0;36m<cell line: 3>\u001b[0;34m()\u001b[0m\n\u001b[1;32m      1\u001b[0m \u001b[0;31m#immutability:-\u001b[0m\u001b[0;34m\u001b[0m\u001b[0;34m\u001b[0m\u001b[0m\n\u001b[1;32m      2\u001b[0m \u001b[0mfruits\u001b[0m \u001b[0;34m=\u001b[0m \u001b[0;34m(\u001b[0m\u001b[0;34m\"apple\"\u001b[0m\u001b[0;34m,\u001b[0m\u001b[0;34m\"banana\"\u001b[0m\u001b[0;34m,\u001b[0m\u001b[0;34m\"cherry\"\u001b[0m\u001b[0;34m)\u001b[0m\u001b[0;34m\u001b[0m\u001b[0;34m\u001b[0m\u001b[0m\n\u001b[0;32m----> 3\u001b[0;31m \u001b[0mfruits\u001b[0m\u001b[0;34m.\u001b[0m\u001b[0mpop\u001b[0m\u001b[0;34m(\u001b[0m\u001b[0;34m)\u001b[0m\u001b[0;34m\u001b[0m\u001b[0;34m\u001b[0m\u001b[0m\n\u001b[0m\u001b[1;32m      4\u001b[0m \u001b[0mfruits\u001b[0m\u001b[0;34m\u001b[0m\u001b[0;34m\u001b[0m\u001b[0m\n",
            "\u001b[0;31mAttributeError\u001b[0m: 'tuple' object has no attribute 'pop'"
          ]
        }
      ]
    },
    {
      "cell_type": "code",
      "source": [
        "#immutability:-\n",
        "fruits = (\"apple\",\"banana\",\"cherry\")\n",
        "fruits.reverse()\n",
        "fruits"
      ],
      "metadata": {
        "colab": {
          "base_uri": "https://localhost:8080/",
          "height": 193
        },
        "id": "BzGI0rZZayuq",
        "outputId": "4a42332a-b27d-4a83-d362-cb3d683a4462"
      },
      "execution_count": null,
      "outputs": [
        {
          "output_type": "error",
          "ename": "AttributeError",
          "evalue": "'tuple' object has no attribute 'reverse'",
          "traceback": [
            "\u001b[0;31m---------------------------------------------------------------------------\u001b[0m",
            "\u001b[0;31mAttributeError\u001b[0m                            Traceback (most recent call last)",
            "\u001b[0;32m<ipython-input-65-429733887449>\u001b[0m in \u001b[0;36m<cell line: 3>\u001b[0;34m()\u001b[0m\n\u001b[1;32m      1\u001b[0m \u001b[0;31m#immutability:-\u001b[0m\u001b[0;34m\u001b[0m\u001b[0;34m\u001b[0m\u001b[0m\n\u001b[1;32m      2\u001b[0m \u001b[0mfruits\u001b[0m \u001b[0;34m=\u001b[0m \u001b[0;34m(\u001b[0m\u001b[0;34m\"apple\"\u001b[0m\u001b[0;34m,\u001b[0m\u001b[0;34m\"banana\"\u001b[0m\u001b[0;34m,\u001b[0m\u001b[0;34m\"cherry\"\u001b[0m\u001b[0;34m)\u001b[0m\u001b[0;34m\u001b[0m\u001b[0;34m\u001b[0m\u001b[0m\n\u001b[0;32m----> 3\u001b[0;31m \u001b[0mfruits\u001b[0m\u001b[0;34m.\u001b[0m\u001b[0mreverse\u001b[0m\u001b[0;34m(\u001b[0m\u001b[0;34m)\u001b[0m\u001b[0;34m\u001b[0m\u001b[0;34m\u001b[0m\u001b[0m\n\u001b[0m\u001b[1;32m      4\u001b[0m \u001b[0mfruits\u001b[0m\u001b[0;34m\u001b[0m\u001b[0;34m\u001b[0m\u001b[0m\n",
            "\u001b[0;31mAttributeError\u001b[0m: 'tuple' object has no attribute 'reverse'"
          ]
        }
      ]
    },
    {
      "cell_type": "code",
      "source": [
        "#immutability:-\n",
        "fruits = (\"apple\",\"banana\",\"cherry\")\n",
        "fruits.sort()\n",
        "fruits"
      ],
      "metadata": {
        "colab": {
          "base_uri": "https://localhost:8080/",
          "height": 193
        },
        "id": "fMPFHqJea2dN",
        "outputId": "b9621594-a93c-4751-f9b9-5309f4bc03bb"
      },
      "execution_count": null,
      "outputs": [
        {
          "output_type": "error",
          "ename": "AttributeError",
          "evalue": "'tuple' object has no attribute 'sort'",
          "traceback": [
            "\u001b[0;31m---------------------------------------------------------------------------\u001b[0m",
            "\u001b[0;31mAttributeError\u001b[0m                            Traceback (most recent call last)",
            "\u001b[0;32m<ipython-input-66-c12f605ef98b>\u001b[0m in \u001b[0;36m<cell line: 3>\u001b[0;34m()\u001b[0m\n\u001b[1;32m      1\u001b[0m \u001b[0;31m#immutability:-\u001b[0m\u001b[0;34m\u001b[0m\u001b[0;34m\u001b[0m\u001b[0m\n\u001b[1;32m      2\u001b[0m \u001b[0mfruits\u001b[0m \u001b[0;34m=\u001b[0m \u001b[0;34m(\u001b[0m\u001b[0;34m\"apple\"\u001b[0m\u001b[0;34m,\u001b[0m\u001b[0;34m\"banana\"\u001b[0m\u001b[0;34m,\u001b[0m\u001b[0;34m\"cherry\"\u001b[0m\u001b[0;34m)\u001b[0m\u001b[0;34m\u001b[0m\u001b[0;34m\u001b[0m\u001b[0m\n\u001b[0;32m----> 3\u001b[0;31m \u001b[0mfruits\u001b[0m\u001b[0;34m.\u001b[0m\u001b[0msort\u001b[0m\u001b[0;34m(\u001b[0m\u001b[0;34m)\u001b[0m\u001b[0;34m\u001b[0m\u001b[0;34m\u001b[0m\u001b[0m\n\u001b[0m\u001b[1;32m      4\u001b[0m \u001b[0mfruits\u001b[0m\u001b[0;34m\u001b[0m\u001b[0;34m\u001b[0m\u001b[0m\n",
            "\u001b[0;31mAttributeError\u001b[0m: 'tuple' object has no attribute 'sort'"
          ]
        }
      ]
    },
    {
      "cell_type": "code",
      "source": [
        "#immutability:-\n",
        "fruits = (\"apple\",\"banana\",\"cherry\")\n",
        "fruits.count()\n",
        "fruits\n"
      ],
      "metadata": {
        "colab": {
          "base_uri": "https://localhost:8080/",
          "height": 193
        },
        "id": "XprEuNDHa70x",
        "outputId": "ef24bb89-ba02-474b-a9a8-5cd1a4c43538"
      },
      "execution_count": null,
      "outputs": [
        {
          "output_type": "error",
          "ename": "TypeError",
          "evalue": "tuple.count() takes exactly one argument (0 given)",
          "traceback": [
            "\u001b[0;31m---------------------------------------------------------------------------\u001b[0m",
            "\u001b[0;31mTypeError\u001b[0m                                 Traceback (most recent call last)",
            "\u001b[0;32m<ipython-input-67-fa568408b235>\u001b[0m in \u001b[0;36m<cell line: 3>\u001b[0;34m()\u001b[0m\n\u001b[1;32m      1\u001b[0m \u001b[0;31m#immutability:-\u001b[0m\u001b[0;34m\u001b[0m\u001b[0;34m\u001b[0m\u001b[0m\n\u001b[1;32m      2\u001b[0m \u001b[0mfruits\u001b[0m \u001b[0;34m=\u001b[0m \u001b[0;34m(\u001b[0m\u001b[0;34m\"apple\"\u001b[0m\u001b[0;34m,\u001b[0m\u001b[0;34m\"banana\"\u001b[0m\u001b[0;34m,\u001b[0m\u001b[0;34m\"cherry\"\u001b[0m\u001b[0;34m)\u001b[0m\u001b[0;34m\u001b[0m\u001b[0;34m\u001b[0m\u001b[0m\n\u001b[0;32m----> 3\u001b[0;31m \u001b[0mfruits\u001b[0m\u001b[0;34m.\u001b[0m\u001b[0mcount\u001b[0m\u001b[0;34m(\u001b[0m\u001b[0;34m)\u001b[0m\u001b[0;34m\u001b[0m\u001b[0;34m\u001b[0m\u001b[0m\n\u001b[0m\u001b[1;32m      4\u001b[0m \u001b[0mfruits\u001b[0m\u001b[0;34m\u001b[0m\u001b[0;34m\u001b[0m\u001b[0m\n",
            "\u001b[0;31mTypeError\u001b[0m: tuple.count() takes exactly one argument (0 given)"
          ]
        }
      ]
    },
    {
      "cell_type": "markdown",
      "source": [
        "* Tuple operators:-\n",
        "> Concatenation:-\n",
        "* add value of elment in end of the elment to comb(process)"
      ],
      "metadata": {
        "id": "uvl7XbUpa_w9"
      }
    },
    {
      "cell_type": "code",
      "source": [
        "#concatenation:\n",
        "tuple1 = (1,2,3)\n",
        "tuple2 = (4,5,6)\n",
        "combined_tuple = tuple1 + tuple2\n",
        "print(combined_tuple)"
      ],
      "metadata": {
        "colab": {
          "base_uri": "https://localhost:8080/"
        },
        "id": "LXq9z9szbahE",
        "outputId": "e67cf41f-c83d-4371-a6f6-0d1c1f98ad04"
      },
      "execution_count": null,
      "outputs": [
        {
          "output_type": "stream",
          "name": "stdout",
          "text": [
            "(1, 2, 3, 4, 5, 6)\n"
          ]
        }
      ]
    },
    {
      "cell_type": "code",
      "source": [
        "#concatenation:\n",
        "tuple1 = (1,2,3)\n",
        "tuple2 = (4,5,6)\n",
        "combined_tuple = tuple2 + tuple1\n",
        "print(combined_tuple)"
      ],
      "metadata": {
        "colab": {
          "base_uri": "https://localhost:8080/"
        },
        "id": "3EKAj2OobiFO",
        "outputId": "08eae9bb-07c4-4c85-9728-88e485f3a18d"
      },
      "execution_count": null,
      "outputs": [
        {
          "output_type": "stream",
          "name": "stdout",
          "text": [
            "(4, 5, 6, 1, 2, 3)\n"
          ]
        }
      ]
    },
    {
      "cell_type": "code",
      "source": [
        "#concatenation:\n",
        "tuple1 = (1,2,3)\n",
        "tuple2 = (\"a\",\"b\",\"c\")\n",
        "combined_tuple = tuple1 + tuple2\n",
        "print(combined_tuple)"
      ],
      "metadata": {
        "colab": {
          "base_uri": "https://localhost:8080/"
        },
        "id": "qTLFGN66bjyV",
        "outputId": "3f6e73f7-3791-40f3-d814-d5194d2bff02"
      },
      "execution_count": null,
      "outputs": [
        {
          "output_type": "stream",
          "name": "stdout",
          "text": [
            "(1, 2, 3, 'a', 'b', 'c')\n"
          ]
        }
      ]
    },
    {
      "cell_type": "code",
      "source": [
        "#concatenation:\n",
        "tuple1 = (1,2,3)\n",
        "tuple2 = (\"a\",\"b\",\"c\")\n",
        "combined_tuple = tuple2 + tuple1\n",
        "print(combined_tuple)"
      ],
      "metadata": {
        "colab": {
          "base_uri": "https://localhost:8080/"
        },
        "id": "8g58xfaKblp2",
        "outputId": "f78cfc93-f179-4b3c-beae-721be36137c3"
      },
      "execution_count": null,
      "outputs": [
        {
          "output_type": "stream",
          "name": "stdout",
          "text": [
            "('a', 'b', 'c', 1, 2, 3)\n"
          ]
        }
      ]
    },
    {
      "cell_type": "code",
      "source": [
        "#concatenation:\n",
        "tuple1 = (1,2,3)\n",
        "tuple2 = (\"add\",\"sub\",\"mult\")\n",
        "combined_tuple = tuple1 + tuple2\n",
        "print(combined_tuple)"
      ],
      "metadata": {
        "colab": {
          "base_uri": "https://localhost:8080/"
        },
        "id": "zSZvpOLAbnsf",
        "outputId": "10c6d755-d131-4a5c-b775-dd7945f9c1aa"
      },
      "execution_count": null,
      "outputs": [
        {
          "output_type": "stream",
          "name": "stdout",
          "text": [
            "(1, 2, 3, 'add', 'sub', 'mult')\n"
          ]
        }
      ]
    },
    {
      "cell_type": "code",
      "source": [
        "#concatenation:\n",
        "tuple1 = (1,2,3)\n",
        "tuple2 = (4,5,6)\n",
        "combined_tuple = tuple2 + tuple1\n",
        "print(combined_tuple)\n"
      ],
      "metadata": {
        "colab": {
          "base_uri": "https://localhost:8080/"
        },
        "id": "R-_2K6NHbtph",
        "outputId": "88419632-ba4c-4b5b-8d51-f4d9268698fa"
      },
      "execution_count": null,
      "outputs": [
        {
          "output_type": "stream",
          "name": "stdout",
          "text": [
            "(4, 5, 6, 1, 2, 3)\n"
          ]
        }
      ]
    },
    {
      "cell_type": "markdown",
      "source": [
        "* repetition:-\n",
        "> repeating the tuple with contains(*)\n"
      ],
      "metadata": {
        "id": "swJxpAUjcQkN"
      }
    },
    {
      "cell_type": "code",
      "source": [
        "#repetition:-\n",
        "tuple1 = (1,2,3)\n",
        "repeated_tuple = tuple1 * 3\n",
        "print(repeated_tuple)"
      ],
      "metadata": {
        "colab": {
          "base_uri": "https://localhost:8080/"
        },
        "id": "PvUD9gDZccqx",
        "outputId": "1b389bf5-437c-4ed5-963f-6b5d95434a69"
      },
      "execution_count": null,
      "outputs": [
        {
          "output_type": "stream",
          "name": "stdout",
          "text": [
            "(1, 2, 3, 1, 2, 3, 1, 2, 3)\n"
          ]
        }
      ]
    },
    {
      "cell_type": "code",
      "source": [
        "#repetition:-\n",
        "tuple1 = (1,2,3)\n",
        "repeated_tuple = tuple1 * 2\n",
        "print(repeated_tuple)\n"
      ],
      "metadata": {
        "colab": {
          "base_uri": "https://localhost:8080/"
        },
        "id": "izqMu4r1chp_",
        "outputId": "9938f01a-f0aa-44c2-f497-a008563676ff"
      },
      "execution_count": null,
      "outputs": [
        {
          "output_type": "stream",
          "name": "stdout",
          "text": [
            "(1, 2, 3, 1, 2, 3)\n"
          ]
        }
      ]
    },
    {
      "cell_type": "code",
      "source": [
        "#repetition:-\n",
        "tuple1 = (1,2,3)\n",
        "repeated_tuple = tuple1 * 4\n",
        "print(repeated_tuple)"
      ],
      "metadata": {
        "colab": {
          "base_uri": "https://localhost:8080/"
        },
        "id": "_nIg8rOZcpa1",
        "outputId": "30e0e0a0-9909-4dc2-a3ec-1e97e2c62926"
      },
      "execution_count": null,
      "outputs": [
        {
          "output_type": "stream",
          "name": "stdout",
          "text": [
            "(1, 2, 3, 1, 2, 3, 1, 2, 3, 1, 2, 3)\n"
          ]
        }
      ]
    },
    {
      "cell_type": "code",
      "source": [
        "#repetition:-\n",
        "tuple1 = (1,2,3)\n",
        "repeated_tuple = tuple1 * 5\n",
        "print(repeated_tuple)\n"
      ],
      "metadata": {
        "colab": {
          "base_uri": "https://localhost:8080/"
        },
        "id": "hxOmC3ddcsSz",
        "outputId": "dfd509f7-1c12-470e-99c2-15fd692db2d6"
      },
      "execution_count": null,
      "outputs": [
        {
          "output_type": "stream",
          "name": "stdout",
          "text": [
            "(1, 2, 3, 1, 2, 3, 1, 2, 3, 1, 2, 3, 1, 2, 3)\n"
          ]
        }
      ]
    },
    {
      "cell_type": "code",
      "source": [
        "#repetition:-\n",
        "tuple1 = (1,2,3)\n",
        "repeated_tuple = tuple1 * 6\n",
        "print(repeated_tuple)"
      ],
      "metadata": {
        "colab": {
          "base_uri": "https://localhost:8080/"
        },
        "id": "vj7VwAKBcuC_",
        "outputId": "007f6673-012b-48d7-9c31-516d34d089ff"
      },
      "execution_count": null,
      "outputs": [
        {
          "output_type": "stream",
          "name": "stdout",
          "text": [
            "(1, 2, 3, 1, 2, 3, 1, 2, 3, 1, 2, 3, 1, 2, 3, 1, 2, 3)\n"
          ]
        }
      ]
    },
    {
      "cell_type": "code",
      "source": [
        "#repetition:-\n",
        "tuple1 = (1,2,3)\n",
        "repeated_tuple = tuple1 * 7\n",
        "print(repeated_tuple)"
      ],
      "metadata": {
        "colab": {
          "base_uri": "https://localhost:8080/"
        },
        "id": "MVCcjZr7cx8B",
        "outputId": "24cde2ca-4d4a-41a6-8ea8-af0c4be61688"
      },
      "execution_count": null,
      "outputs": [
        {
          "output_type": "stream",
          "name": "stdout",
          "text": [
            "(1, 2, 3, 1, 2, 3, 1, 2, 3, 1, 2, 3, 1, 2, 3, 1, 2, 3, 1, 2, 3)\n"
          ]
        }
      ]
    },
    {
      "cell_type": "code",
      "source": [
        "#repetition:-\n",
        "tuple1 = (1,2,3)\n",
        "repeated_tuple = tuple1 * 8\n",
        "print(repeated_tuple)"
      ],
      "metadata": {
        "colab": {
          "base_uri": "https://localhost:8080/"
        },
        "id": "zmRaoux3c2ZY",
        "outputId": "41560b6e-5666-4353-f36e-6aa65a362e62"
      },
      "execution_count": null,
      "outputs": [
        {
          "output_type": "stream",
          "name": "stdout",
          "text": [
            "(1, 2, 3, 1, 2, 3, 1, 2, 3, 1, 2, 3, 1, 2, 3, 1, 2, 3, 1, 2, 3, 1, 2, 3)\n"
          ]
        }
      ]
    },
    {
      "cell_type": "markdown",
      "source": [
        "* Tuple method:-\n",
        "> Tuple have limited methods compared to list due to their immutability(unchangeable)\n",
        "1. count():\n",
        "> Return the number of occurences of a speceified value\n"
      ],
      "metadata": {
        "id": "d_hntJkOc8pI"
      }
    },
    {
      "cell_type": "code",
      "source": [
        "#count():-\n",
        "number = (1,2,3,2,4,2,5)\n",
        "count_of_2 = number.count(2)\n",
        "print(count_of_2)"
      ],
      "metadata": {
        "colab": {
          "base_uri": "https://localhost:8080/"
        },
        "id": "PNCuIxWldgWu",
        "outputId": "d88de4e2-0b68-4ba3-b08e-367c31c32fad"
      },
      "execution_count": null,
      "outputs": [
        {
          "output_type": "stream",
          "name": "stdout",
          "text": [
            "3\n"
          ]
        }
      ]
    },
    {
      "cell_type": "code",
      "source": [
        "#count():-\n",
        "number = (1,2,3,2,4,2,5)\n",
        "count_of_3 = number.count(3)\n",
        "print(count_of_3)\n"
      ],
      "metadata": {
        "colab": {
          "base_uri": "https://localhost:8080/"
        },
        "id": "uorstJOGdphF",
        "outputId": "f1b9245f-04fa-43f6-a5fa-6e81c50f3484"
      },
      "execution_count": null,
      "outputs": [
        {
          "output_type": "stream",
          "name": "stdout",
          "text": [
            "1\n"
          ]
        }
      ]
    },
    {
      "cell_type": "code",
      "source": [
        "#count():-\n",
        "number = (1,2,3,2,4,2,5)\n",
        "count_of_4 = number.count(4)\n",
        "print(count_of_4)"
      ],
      "metadata": {
        "colab": {
          "base_uri": "https://localhost:8080/"
        },
        "id": "0UwuELgsdtwo",
        "outputId": "57553b44-a3d4-420c-9bc4-ef74f4ac5a4d"
      },
      "execution_count": null,
      "outputs": [
        {
          "output_type": "stream",
          "name": "stdout",
          "text": [
            "1\n"
          ]
        }
      ]
    },
    {
      "cell_type": "code",
      "source": [
        "#count():-\n",
        "number = (1,2,3,2,4,2,5)\n",
        "count_of_5 = number.count(5)\n",
        "print(count_of_5)"
      ],
      "metadata": {
        "colab": {
          "base_uri": "https://localhost:8080/"
        },
        "id": "jcj28MtrfGN-",
        "outputId": "595a8595-6781-4c04-909a-56272355620b"
      },
      "execution_count": null,
      "outputs": [
        {
          "output_type": "stream",
          "name": "stdout",
          "text": [
            "1\n"
          ]
        }
      ]
    },
    {
      "cell_type": "code",
      "source": [
        "#count():-\n",
        "number = (1,2,3,2,4,2,5)\n",
        "count_of_6 = number.count(6)\n",
        "print(count_of_6)\n"
      ],
      "metadata": {
        "colab": {
          "base_uri": "https://localhost:8080/"
        },
        "id": "N0Wv2tNZfISv",
        "outputId": "5dcf1ee2-4afb-4314-ea5f-18672b993c17"
      },
      "execution_count": null,
      "outputs": [
        {
          "output_type": "stream",
          "name": "stdout",
          "text": [
            "0\n"
          ]
        }
      ]
    },
    {
      "cell_type": "code",
      "source": [
        "#count():-\n",
        "number = (1,2,3,2,4,2,5)\n",
        "count_of_7 = number.count(7)\n",
        "print(count_of_7)"
      ],
      "metadata": {
        "colab": {
          "base_uri": "https://localhost:8080/"
        },
        "id": "kvAKZqhxfK7X",
        "outputId": "f669f232-ede0-4180-a112-94008bac85e6"
      },
      "execution_count": null,
      "outputs": [
        {
          "output_type": "stream",
          "name": "stdout",
          "text": [
            "0\n"
          ]
        }
      ]
    },
    {
      "cell_type": "code",
      "source": [
        "#count():-\n",
        "number = (1,2,3,2,4,2,5)\n",
        "count_of_8 = number.count(8)\n",
        "print(count_of_8)"
      ],
      "metadata": {
        "colab": {
          "base_uri": "https://localhost:8080/"
        },
        "id": "jxak5VBzfToI",
        "outputId": "c8f11e65-676d-4d4e-ee99-a34637c48635"
      },
      "execution_count": null,
      "outputs": [
        {
          "output_type": "stream",
          "name": "stdout",
          "text": [
            "0\n"
          ]
        }
      ]
    },
    {
      "cell_type": "code",
      "source": [
        "#count():-\n",
        "number = (1,2,3,2,4,2,5)\n",
        "count_of_9 = number.count(9)\n",
        "print(count_of_9)"
      ],
      "metadata": {
        "colab": {
          "base_uri": "https://localhost:8080/"
        },
        "id": "0-1sMX2tfWDG",
        "outputId": "f7278609-2353-4dfa-861b-74ee68b21aac"
      },
      "execution_count": null,
      "outputs": [
        {
          "output_type": "stream",
          "name": "stdout",
          "text": [
            "0\n"
          ]
        }
      ]
    },
    {
      "cell_type": "markdown",
      "source": [
        "2.  index:-\n",
        "> Return the index of the first occurrence of a specified value\n",
        "* which contain a position of a elment or a value\n"
      ],
      "metadata": {
        "id": "sll6oN9BfcKC"
      }
    },
    {
      "cell_type": "code",
      "source": [
        "#index:-\n",
        "fruits = (\"apple\",\"banana\",\"cherry\")\n",
        "index_of_banana = fruits.index(\"banana\")\n",
        "print(index_of_banana)"
      ],
      "metadata": {
        "colab": {
          "base_uri": "https://localhost:8080/"
        },
        "id": "_Q3GRlDHfrk4",
        "outputId": "fd642c6a-8d97-4405-c155-68d32148fcd6"
      },
      "execution_count": null,
      "outputs": [
        {
          "output_type": "stream",
          "name": "stdout",
          "text": [
            "1\n"
          ]
        }
      ]
    },
    {
      "cell_type": "code",
      "source": [
        "#index:-\n",
        "fruits = (\"apple\",\"banana\",\"cherry\")\n",
        "index_of_cherry = fruits.index(\"cherry\")"
      ],
      "metadata": {
        "id": "1gQMMq3mfuaP"
      },
      "execution_count": null,
      "outputs": []
    },
    {
      "cell_type": "code",
      "source": [
        "#index:-\n",
        "fruits = (\"apple\",\"banana\",\"cherry\")\n",
        "index_of_apple = fruits.index(\"apple\")\n",
        "print(index_of_apple)"
      ],
      "metadata": {
        "colab": {
          "base_uri": "https://localhost:8080/"
        },
        "id": "2sfFwq-FgArg",
        "outputId": "dfa4a96a-173d-4a85-fd8a-50883e557358"
      },
      "execution_count": null,
      "outputs": [
        {
          "output_type": "stream",
          "name": "stdout",
          "text": [
            "0\n"
          ]
        }
      ]
    },
    {
      "cell_type": "code",
      "source": [
        "#index:-\n",
        "fruits = (\"apple\",\"banana\",\"cherry\")\n",
        "index_of_banana = fruits.index(\"banana\")\n",
        "print(index_of_banana)"
      ],
      "metadata": {
        "colab": {
          "base_uri": "https://localhost:8080/"
        },
        "id": "XcKWj2fLgCmk",
        "outputId": "970740be-7ccf-4304-b190-903dbfe65d57"
      },
      "execution_count": null,
      "outputs": [
        {
          "output_type": "stream",
          "name": "stdout",
          "text": [
            "1\n"
          ]
        }
      ]
    },
    {
      "cell_type": "code",
      "source": [
        "#index:-\n",
        "fruits = (\"apple\",\"banana\",\"cherry\")\n",
        "index_of_cherry = fruits.index(\"cherry\")\n",
        "print(index_of_cherry)\n"
      ],
      "metadata": {
        "colab": {
          "base_uri": "https://localhost:8080/"
        },
        "id": "6EbGx2H5gEf2",
        "outputId": "d187c3d4-e373-47fb-f7f0-0ed10a2d568b"
      },
      "execution_count": null,
      "outputs": [
        {
          "output_type": "stream",
          "name": "stdout",
          "text": [
            "2\n"
          ]
        }
      ]
    },
    {
      "cell_type": "code",
      "source": [
        "#index:-\n",
        "fruits = (\"apple\",\"banana\",\"cherry\")\n",
        "index_of_orange = fruits.index(\"orange\")\n",
        "print(index_of_orange)\n"
      ],
      "metadata": {
        "colab": {
          "base_uri": "https://localhost:8080/",
          "height": 193
        },
        "id": "WxFAZsLcgIu4",
        "outputId": "6f79ecb7-ee72-4278-90f4-cd9a81c9cd64"
      },
      "execution_count": null,
      "outputs": [
        {
          "output_type": "error",
          "ename": "ValueError",
          "evalue": "tuple.index(x): x not in tuple",
          "traceback": [
            "\u001b[0;31m---------------------------------------------------------------------------\u001b[0m",
            "\u001b[0;31mValueError\u001b[0m                                Traceback (most recent call last)",
            "\u001b[0;32m<ipython-input-101-0821f42e3cf2>\u001b[0m in \u001b[0;36m<cell line: 3>\u001b[0;34m()\u001b[0m\n\u001b[1;32m      1\u001b[0m \u001b[0;31m#index:-\u001b[0m\u001b[0;34m\u001b[0m\u001b[0;34m\u001b[0m\u001b[0m\n\u001b[1;32m      2\u001b[0m \u001b[0mfruits\u001b[0m \u001b[0;34m=\u001b[0m \u001b[0;34m(\u001b[0m\u001b[0;34m\"apple\"\u001b[0m\u001b[0;34m,\u001b[0m\u001b[0;34m\"banana\"\u001b[0m\u001b[0;34m,\u001b[0m\u001b[0;34m\"cherry\"\u001b[0m\u001b[0;34m)\u001b[0m\u001b[0;34m\u001b[0m\u001b[0;34m\u001b[0m\u001b[0m\n\u001b[0;32m----> 3\u001b[0;31m \u001b[0mindex_of_orange\u001b[0m \u001b[0;34m=\u001b[0m \u001b[0mfruits\u001b[0m\u001b[0;34m.\u001b[0m\u001b[0mindex\u001b[0m\u001b[0;34m(\u001b[0m\u001b[0;34m\"orange\"\u001b[0m\u001b[0;34m)\u001b[0m\u001b[0;34m\u001b[0m\u001b[0;34m\u001b[0m\u001b[0m\n\u001b[0m\u001b[1;32m      4\u001b[0m \u001b[0mprint\u001b[0m\u001b[0;34m(\u001b[0m\u001b[0mindex_of_orange\u001b[0m\u001b[0;34m)\u001b[0m\u001b[0;34m\u001b[0m\u001b[0;34m\u001b[0m\u001b[0m\n",
            "\u001b[0;31mValueError\u001b[0m: tuple.index(x): x not in tuple"
          ]
        }
      ]
    },
    {
      "cell_type": "code",
      "source": [
        "#index:-\n",
        "fruits = (\"apple\",\"banana\",\"cherry\")\n",
        "index_of_orange = fruits.index(\"orange\")"
      ],
      "metadata": {
        "colab": {
          "base_uri": "https://localhost:8080/",
          "height": 176
        },
        "id": "YSo9PSEkgLRz",
        "outputId": "bd70722f-6381-4549-ab06-357c038de3c4"
      },
      "execution_count": null,
      "outputs": [
        {
          "output_type": "error",
          "ename": "ValueError",
          "evalue": "tuple.index(x): x not in tuple",
          "traceback": [
            "\u001b[0;31m---------------------------------------------------------------------------\u001b[0m",
            "\u001b[0;31mValueError\u001b[0m                                Traceback (most recent call last)",
            "\u001b[0;32m<ipython-input-102-c3023fc3ecfe>\u001b[0m in \u001b[0;36m<cell line: 3>\u001b[0;34m()\u001b[0m\n\u001b[1;32m      1\u001b[0m \u001b[0;31m#index:-\u001b[0m\u001b[0;34m\u001b[0m\u001b[0;34m\u001b[0m\u001b[0m\n\u001b[1;32m      2\u001b[0m \u001b[0mfruits\u001b[0m \u001b[0;34m=\u001b[0m \u001b[0;34m(\u001b[0m\u001b[0;34m\"apple\"\u001b[0m\u001b[0;34m,\u001b[0m\u001b[0;34m\"banana\"\u001b[0m\u001b[0;34m,\u001b[0m\u001b[0;34m\"cherry\"\u001b[0m\u001b[0;34m)\u001b[0m\u001b[0;34m\u001b[0m\u001b[0;34m\u001b[0m\u001b[0m\n\u001b[0;32m----> 3\u001b[0;31m \u001b[0mindex_of_orange\u001b[0m \u001b[0;34m=\u001b[0m \u001b[0mfruits\u001b[0m\u001b[0;34m.\u001b[0m\u001b[0mindex\u001b[0m\u001b[0;34m(\u001b[0m\u001b[0;34m\"orange\"\u001b[0m\u001b[0;34m)\u001b[0m\u001b[0;34m\u001b[0m\u001b[0;34m\u001b[0m\u001b[0m\n\u001b[0m",
            "\u001b[0;31mValueError\u001b[0m: tuple.index(x): x not in tuple"
          ]
        }
      ]
    },
    {
      "cell_type": "markdown",
      "source": [
        "* python sets:-\n",
        "> IN python a set is a collection of unique elment and it id defined using braces{} and set by (comma,)\n",
        "* set are used unordered, mutable,and do not allow duplicated elment\n",
        "* set provide a variety of meyhod for performs common set opperator like union, intersetion ,difference and symmetric"
      ],
      "metadata": {
        "id": "ws6Vd5upgZX5"
      }
    },
    {
      "cell_type": "code",
      "source": [
        "#creating set\n",
        "my_set = {1,2,3,4,5}\n",
        "print(my_set)"
      ],
      "metadata": {
        "colab": {
          "base_uri": "https://localhost:8080/"
        },
        "id": "AH9dzYJKhZRa",
        "outputId": "2cf7067a-5441-4b79-cbce-9b3874a7f88d"
      },
      "execution_count": null,
      "outputs": [
        {
          "output_type": "stream",
          "name": "stdout",
          "text": [
            "{1, 2, 3, 4, 5}\n"
          ]
        }
      ]
    },
    {
      "cell_type": "code",
      "source": [
        "#creating set\n",
        "my_set = {1,2,3,4,5}"
      ],
      "metadata": {
        "id": "Q_pR0OLAhdnz"
      },
      "execution_count": null,
      "outputs": []
    },
    {
      "cell_type": "code",
      "source": [
        "#creating set\n",
        "fruits = {\"apple\",\"banana\",\"cherry\"}\n",
        "print(fruits)\n",
        "numbers = {1,2,3,4,5}\n",
        "print(numbers)\n",
        "print(type(fruits))\n",
        "print(fruits)"
      ],
      "metadata": {
        "colab": {
          "base_uri": "https://localhost:8080/"
        },
        "id": "6H2YTGOfhhT2",
        "outputId": "8eb10eb1-e0f2-457c-ade6-2e56bcdf4042"
      },
      "execution_count": null,
      "outputs": [
        {
          "output_type": "stream",
          "name": "stdout",
          "text": [
            "{'apple', 'cherry', 'banana'}\n",
            "{1, 2, 3, 4, 5}\n",
            "<class 'set'>\n",
            "{'apple', 'cherry', 'banana'}\n"
          ]
        }
      ]
    },
    {
      "cell_type": "code",
      "source": [
        "#creating set\n",
        "fruits = {\"apple\",\"banana\",\"cherry\"}\n",
        "print(fruits)"
      ],
      "metadata": {
        "colab": {
          "base_uri": "https://localhost:8080/"
        },
        "id": "HxMkPrgdh09D",
        "outputId": "d116d20c-d359-4483-9f02-a41d5a260631"
      },
      "execution_count": null,
      "outputs": [
        {
          "output_type": "stream",
          "name": "stdout",
          "text": [
            "{'apple', 'cherry', 'banana'}\n"
          ]
        }
      ]
    },
    {
      "cell_type": "code",
      "source": [
        "#creating set\n",
        "numbers = {1,2,3,4,5}\n",
        "print(numbers)\n",
        "print(type(numbers))"
      ],
      "metadata": {
        "colab": {
          "base_uri": "https://localhost:8080/"
        },
        "id": "ewEZLTe3h5Bp",
        "outputId": "602eb9b6-a1dc-4f29-b7ff-036e7e6e3cea"
      },
      "execution_count": null,
      "outputs": [
        {
          "output_type": "stream",
          "name": "stdout",
          "text": [
            "{1, 2, 3, 4, 5}\n",
            "<class 'set'>\n"
          ]
        }
      ]
    },
    {
      "cell_type": "markdown",
      "source": [
        "* Duplicate items in a set:\n",
        "> which contains a duplicate elments can be removed\n"
      ],
      "metadata": {
        "id": "8XA1oKF9iCuN"
      }
    },
    {
      "cell_type": "code",
      "source": [
        "#duplicate items in a set:-\n",
        "numbers = {1,2,4,345,5,6,6,57,6,5,34,2,645,644,4,4}\n",
        "print(numbers)"
      ],
      "metadata": {
        "colab": {
          "base_uri": "https://localhost:8080/"
        },
        "id": "_Zo4vXQDiTTy",
        "outputId": "e84be566-4e76-4d5f-c5fd-33e0489ef088"
      },
      "execution_count": null,
      "outputs": [
        {
          "output_type": "stream",
          "name": "stdout",
          "text": [
            "{1, 2, 34, 4, 5, 6, 645, 644, 345, 57}\n"
          ]
        }
      ]
    },
    {
      "cell_type": "code",
      "source": [
        "#duplicate items in a set:-\n",
        "numbers = {1,2,4,345,5,6,6,57,6,5,34,2,645,644,4,4}\n",
        "print(numbers)\n"
      ],
      "metadata": {
        "colab": {
          "base_uri": "https://localhost:8080/"
        },
        "id": "M0xbky4hinEz",
        "outputId": "653fdadd-3ba7-4d53-ab1e-6385e72bed7f"
      },
      "execution_count": null,
      "outputs": [
        {
          "output_type": "stream",
          "name": "stdout",
          "text": [
            "{1, 2, 34, 4, 5, 6, 645, 644, 345, 57}\n"
          ]
        }
      ]
    },
    {
      "cell_type": "markdown",
      "source": [
        "* Add & update set items python:\n",
        "1. Add items to a set in python:-\n",
        "> In python we use the add() method to add an item to a set."
      ],
      "metadata": {
        "id": "9GSxA3exi1QB"
      }
    },
    {
      "cell_type": "code",
      "source": [
        "#Add items to a set:-\n",
        "number = {2,4,3,3,5,6,88,9,97,4,3,2,5,5,55,44}\n",
        "number.add(100)\n",
        "print(number)"
      ],
      "metadata": {
        "colab": {
          "base_uri": "https://localhost:8080/"
        },
        "id": "dUmH49kHjNAv",
        "outputId": "2ec97390-a9f2-4302-e26a-190d816f820f"
      },
      "execution_count": null,
      "outputs": [
        {
          "output_type": "stream",
          "name": "stdout",
          "text": [
            "{97, 2, 3, 4, 5, 6, 100, 9, 44, 55, 88}\n"
          ]
        }
      ]
    },
    {
      "cell_type": "code",
      "source": [
        "#Add items to a set:-\n",
        "number = {2,4,3,3,5,6,88,9,97,4,3,2,5,5,55,44}\n",
        "number.add(0)\n",
        "print(number)\n"
      ],
      "metadata": {
        "colab": {
          "base_uri": "https://localhost:8080/"
        },
        "id": "0Z6QKQDujsN7",
        "outputId": "cc99ec18-f874-432f-fcc1-8b59950383c0"
      },
      "execution_count": null,
      "outputs": [
        {
          "output_type": "stream",
          "name": "stdout",
          "text": [
            "{0, 97, 2, 3, 4, 5, 6, 9, 44, 55, 88}\n"
          ]
        }
      ]
    },
    {
      "cell_type": "code",
      "source": [
        "#Add items to a set:-\n",
        "number = {2,4,3,3,5,6,88,9,97,4,3,2,5,5,55,44}\n",
        "number.add(1)\n",
        "print(number)\n"
      ],
      "metadata": {
        "colab": {
          "base_uri": "https://localhost:8080/"
        },
        "id": "QNAsoQXxjyZK",
        "outputId": "0d5d0a16-ddbb-47ca-d387-1998a41900d8"
      },
      "execution_count": null,
      "outputs": [
        {
          "output_type": "stream",
          "name": "stdout",
          "text": [
            "{97, 2, 3, 4, 5, 6, 1, 9, 44, 55, 88}\n"
          ]
        }
      ]
    },
    {
      "cell_type": "code",
      "source": [
        "#Add items to a set:-\n",
        "number = {2,4,3,3,5,6,88,9,97,4,3,2,5,5,55,44}\n",
        "number.add(200)\n",
        "print(number)"
      ],
      "metadata": {
        "colab": {
          "base_uri": "https://localhost:8080/"
        },
        "id": "oYjqtiHoj1N9",
        "outputId": "4e1c1b73-c990-4730-9676-0ee387d41995"
      },
      "execution_count": null,
      "outputs": [
        {
          "output_type": "stream",
          "name": "stdout",
          "text": [
            "{97, 2, 3, 4, 5, 6, 200, 9, 44, 55, 88}\n"
          ]
        }
      ]
    },
    {
      "cell_type": "code",
      "source": [
        "#Add items to a set:-\n",
        "number = {2,4,3,3,5,6,88,9,97,4,3,2,5,5,55,44}\n",
        "print(\"initial set:\",number)\n",
        "number.add(300)\n",
        "print(\"update set:\",number)\n",
        "print(number)"
      ],
      "metadata": {
        "colab": {
          "base_uri": "https://localhost:8080/"
        },
        "id": "DP3QN1YHj4uY",
        "outputId": "567e2311-4438-45ed-acc5-c6cbfadf709b"
      },
      "execution_count": null,
      "outputs": [
        {
          "output_type": "stream",
          "name": "stdout",
          "text": [
            "initial set: {97, 2, 3, 4, 5, 6, 9, 44, 55, 88}\n",
            "update set: {97, 2, 3, 4, 5, 6, 9, 44, 300, 55, 88}\n",
            "{97, 2, 3, 4, 5, 6, 9, 44, 300, 55, 88}\n"
          ]
        }
      ]
    },
    {
      "cell_type": "code",
      "source": [
        "#Add items to a set:-\n",
        "number = {2,4,3,3,5,6,88,9,97,4,3,2,5,5,55,44}\n",
        "print(\"initial set:\",number)"
      ],
      "metadata": {
        "colab": {
          "base_uri": "https://localhost:8080/"
        },
        "id": "RgwD0S44kKJB",
        "outputId": "6889f006-7685-4323-b349-d0a48e94a3b0"
      },
      "execution_count": null,
      "outputs": [
        {
          "output_type": "stream",
          "name": "stdout",
          "text": [
            "initial set: {97, 2, 3, 4, 5, 6, 9, 44, 55, 88}\n"
          ]
        }
      ]
    },
    {
      "cell_type": "code",
      "source": [
        "#Add items to a set:-\n",
        "\n",
        "number.add(400)\n",
        "print(\"update set:\",number)\n",
        "print(number)"
      ],
      "metadata": {
        "colab": {
          "base_uri": "https://localhost:8080/"
        },
        "id": "OWM98kWhkcu7",
        "outputId": "b73e09d1-bc23-4bcb-8bf9-9c545e653338"
      },
      "execution_count": null,
      "outputs": [
        {
          "output_type": "stream",
          "name": "stdout",
          "text": [
            "update set: {97, 2, 3, 4, 5, 6, 9, 44, 400, 55, 88}\n",
            "{97, 2, 3, 4, 5, 6, 9, 44, 400, 55, 88}\n"
          ]
        }
      ]
    },
    {
      "cell_type": "markdown",
      "source": [
        "2. update python set:-\n",
        " > update the elment or a char in process"
      ],
      "metadata": {
        "id": "WlZVQJPXkmMe"
      }
    },
    {
      "cell_type": "code",
      "source": [
        "#update items to a set:-\n",
        "companies = {\"google\",\"microsoft\",\"apple\"}\n",
        "companies.update([\"facebook\",\"amazon\"])\n",
        "print(companies)"
      ],
      "metadata": {
        "colab": {
          "base_uri": "https://localhost:8080/"
        },
        "id": "McbQ9Gfjk0hX",
        "outputId": "01ba08c1-ed59-4a0b-9cad-aeef8b97b556"
      },
      "execution_count": null,
      "outputs": [
        {
          "output_type": "stream",
          "name": "stdout",
          "text": [
            "{'apple', 'amazon', 'microsoft', 'facebook', 'google'}\n"
          ]
        }
      ]
    },
    {
      "cell_type": "code",
      "source": [
        "#update items to a set:-\n",
        "companies = {\"google\",\"microsoft\",\"apple\"}\n",
        "companies.update([\"facebook\",\"flipkart\"])\n",
        "print(companies)"
      ],
      "metadata": {
        "colab": {
          "base_uri": "https://localhost:8080/"
        },
        "id": "Kh26hH3nk8lm",
        "outputId": "e5941aa7-5f04-43da-a533-1b66547aa4b1"
      },
      "execution_count": null,
      "outputs": [
        {
          "output_type": "stream",
          "name": "stdout",
          "text": [
            "{'flipkart', 'apple', 'microsoft', 'facebook', 'google'}\n"
          ]
        }
      ]
    },
    {
      "cell_type": "code",
      "source": [
        "#update items to a set:-\n",
        "companies = {\"microsoft\",\"apple\"}\n",
        "tech_companies = [\"facebook\",\"amazon\", \"mon\",\"apple\",\"google\"]\n",
        "tech_companies = companies.update([\"microsoft\"])\n",
        "print(tech_companies)"
      ],
      "metadata": {
        "colab": {
          "base_uri": "https://localhost:8080/"
        },
        "id": "UH4ijucglK2F",
        "outputId": "1fb5a089-493a-4681-b595-d4730fe0eac4"
      },
      "execution_count": null,
      "outputs": [
        {
          "output_type": "stream",
          "name": "stdout",
          "text": [
            "None\n"
          ]
        }
      ]
    },
    {
      "cell_type": "code",
      "source": [
        "#update items to a set:-\n",
        "companies = {\"microsoft\",\"apple\"}\n",
        "tech_companies = [\"facebook\",\"amazon\", \"mon\",\"apple\",\"google\"]\n",
        "update_companies = companies.update([\"microsoft\"])\n",
        "print(tech_companies)"
      ],
      "metadata": {
        "colab": {
          "base_uri": "https://localhost:8080/"
        },
        "id": "ie528msBls6S",
        "outputId": "fd42b7c2-7bcc-4d19-9596-277af339d71f"
      },
      "execution_count": null,
      "outputs": [
        {
          "output_type": "stream",
          "name": "stdout",
          "text": [
            "['facebook', 'amazon', 'mon', 'apple', 'google']\n"
          ]
        }
      ]
    },
    {
      "cell_type": "markdown",
      "source": [
        "* remove an element from a set:-\n",
        "> we use the discard() method to remove the specified elment from a set.\n"
      ],
      "metadata": {
        "id": "39OvCrHRnBD5"
      }
    },
    {
      "cell_type": "code",
      "source": [
        "#remove elment:\n",
        "fruits = {\"apple\",\"banana\",\"cherry\"}\n",
        "fruits.discard(\"banana\")\n",
        "print(fruits)"
      ],
      "metadata": {
        "colab": {
          "base_uri": "https://localhost:8080/"
        },
        "id": "XKvB3hTOnQqh",
        "outputId": "c946b083-9ae5-4f4d-d380-3caacaeb4745"
      },
      "execution_count": null,
      "outputs": [
        {
          "output_type": "stream",
          "name": "stdout",
          "text": [
            "{'apple', 'cherry'}\n"
          ]
        }
      ]
    },
    {
      "cell_type": "code",
      "source": [
        "#remove elment:\n",
        "fruits = {\"apple\",\"banana\",\"cherry\"}\n",
        "fruits.discard(\"cherry\")\n",
        "print(fruits)"
      ],
      "metadata": {
        "colab": {
          "base_uri": "https://localhost:8080/"
        },
        "id": "qMYqLawonWHt",
        "outputId": "f30bfe91-a828-43ef-c291-9d038dc5f8cb"
      },
      "execution_count": null,
      "outputs": [
        {
          "output_type": "stream",
          "name": "stdout",
          "text": [
            "{'apple', 'banana'}\n"
          ]
        }
      ]
    },
    {
      "cell_type": "code",
      "source": [
        "#remove elment:\n",
        "language = {\"swift\",\"java\",\"python\"}\n",
        "language.discard(\"java\")\n",
        "print(language)\n",
        "language.discard(\"c\")\n",
        "print(language)"
      ],
      "metadata": {
        "colab": {
          "base_uri": "https://localhost:8080/"
        },
        "id": "Y-Fr-Xw-nnS4",
        "outputId": "5c67ab27-41f9-45d9-d5de-4af9ec5eb3ea"
      },
      "execution_count": null,
      "outputs": [
        {
          "output_type": "stream",
          "name": "stdout",
          "text": [
            "{'python', 'swift'}\n",
            "{'python', 'swift'}\n"
          ]
        }
      ]
    },
    {
      "cell_type": "code",
      "source": [
        "#remove elment:\n",
        "language = {\"swift\",\"java\",\"python\"}\n",
        "language.discard(\"java\")\n",
        "print(language)"
      ],
      "metadata": {
        "colab": {
          "base_uri": "https://localhost:8080/"
        },
        "id": "jCoUGfevn6A9",
        "outputId": "0cd6fdfb-da9e-4e5b-985a-bb7b2c8a605d"
      },
      "execution_count": null,
      "outputs": [
        {
          "output_type": "stream",
          "name": "stdout",
          "text": [
            "{'python', 'swift'}\n"
          ]
        }
      ]
    },
    {
      "cell_type": "code",
      "source": [
        "#remove elment:\n",
        "language = {\"swift\",\"java\",\"python\"}\n",
        "language.discard(\"fruits\")\n",
        "print(language)"
      ],
      "metadata": {
        "colab": {
          "base_uri": "https://localhost:8080/"
        },
        "id": "1k1Uj7HXoVSy",
        "outputId": "5d55a8da-14c9-43a2-e61d-4b590cc70b4e"
      },
      "execution_count": null,
      "outputs": [
        {
          "output_type": "stream",
          "name": "stdout",
          "text": [
            "{'python', 'java', 'swift'}\n"
          ]
        }
      ]
    },
    {
      "cell_type": "code",
      "source": [],
      "metadata": {
        "id": "HilT_WY95Dr2"
      },
      "execution_count": null,
      "outputs": []
    }
  ]
}