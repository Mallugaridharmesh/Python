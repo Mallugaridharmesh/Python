{
  "nbformat": 4,
  "nbformat_minor": 0,
  "metadata": {
    "colab": {
      "provenance": [],
      "gpuType": "T4",
      "authorship_tag": "ABX9TyPbHlpBxDDE3/IFf1auQK39",
      "include_colab_link": true
    },
    "kernelspec": {
      "name": "python3",
      "display_name": "Python 3"
    },
    "language_info": {
      "name": "python"
    },
    "accelerator": "GPU"
  },
  "cells": [
    {
      "cell_type": "markdown",
      "metadata": {
        "id": "view-in-github",
        "colab_type": "text"
      },
      "source": [
        "<a href=\"https://colab.research.google.com/github/Mallugaridharmesh/Python/blob/main/Conditional(st)%2C(typ)input.ipynb\" target=\"_parent\"><img src=\"https://colab.research.google.com/assets/colab-badge.svg\" alt=\"Open In Colab\"/></a>"
      ]
    },
    {
      "cell_type": "markdown",
      "source": [
        "# conditional statement:\n",
        "> A block of code to be executed, based on a particular condition being true or false\n",
        "1. if\n",
        "2. else\n",
        "3. elif\n"
      ],
      "metadata": {
        "id": "krParJjpZq5R"
      }
    },
    {
      "cell_type": "markdown",
      "source": [],
      "metadata": {
        "id": "h5bbdFvYimj9"
      }
    },
    {
      "cell_type": "markdown",
      "source": [
        "1. if():\n",
        "> if statement defines a block of code to be executed, if a particular condition is true\n"
      ],
      "metadata": {
        "id": "uAjIZ9y8cWhM"
      }
    },
    {
      "cell_type": "code",
      "source": [
        " #if statement():\n",
        "x = 10\n",
        "if x > 5:\n",
        "  print(\"x is greater than 5\")"
      ],
      "metadata": {
        "colab": {
          "base_uri": "https://localhost:8080/"
        },
        "id": "qZVGPDvrc987",
        "outputId": "03b5f3f2-a85c-485f-8dd0-7b13917699d0"
      },
      "execution_count": null,
      "outputs": [
        {
          "output_type": "stream",
          "name": "stdout",
          "text": [
            "x is greater than 5\n"
          ]
        }
      ]
    },
    {
      "cell_type": "markdown",
      "source": [
        "2. else():\n",
        "> else statement defines a block of code to be executed, if the same condition is false"
      ],
      "metadata": {
        "id": "k0Df0tSOdCwm"
      }
    },
    {
      "cell_type": "code",
      "source": [
        "#else statement():\n",
        "x = 3\n",
        "if x > 5:\n",
        "  print(\"x is greater than 5\")\n",
        "else:\n",
        "  print(\"x is not greater than 5\")"
      ],
      "metadata": {
        "colab": {
          "base_uri": "https://localhost:8080/"
        },
        "id": "Lq0ip5wXc-4J",
        "outputId": "4ed8cb5d-38bf-47f6-b431-68e62bddbab5"
      },
      "execution_count": null,
      "outputs": [
        {
          "output_type": "stream",
          "name": "stdout",
          "text": [
            "x is not greater than 5\n"
          ]
        }
      ]
    },
    {
      "cell_type": "markdown",
      "source": [
        "3. elif():\n",
        "> elif statement defines a new condition to test, if the first condition is false"
      ],
      "metadata": {
        "id": "8Gf-YTs5dX3W"
      }
    },
    {
      "cell_type": "code",
      "source": [
        "#elif statement():\n",
        "x = 7\n",
        "if x > 5:\n",
        "  print(\"x is greater than 5\")\n",
        "elif x == 5:\n",
        "  print(\"x is equal to 5\")\n",
        "else:\n",
        "  print(\"x is less than 5\")"
      ],
      "metadata": {
        "colab": {
          "base_uri": "https://localhost:8080/"
        },
        "id": "-lau1nQAdcTc",
        "outputId": "0dbe511f-2224-4625-eeb7-43fa3dd21a2d"
      },
      "execution_count": null,
      "outputs": [
        {
          "output_type": "stream",
          "name": "stdout",
          "text": [
            "x is greater than 5\n"
          ]
        }
      ]
    },
    {
      "cell_type": "markdown",
      "source": [
        "# Types of inputs():\n",
        "1. static\n",
        "2. user\n",
        "\n",
        "2. Static input:\n",
        "> These are the values that are already defined in your code.\n",
        "\n",
        "\n",
        "2. User input:\n",
        "> Here the code waits for user to enter some value.\n",
        "This value is stored in variable defined by user.\n",
        "\n"
      ],
      "metadata": {
        "id": "vt2sOjYVd3WS"
      }
    },
    {
      "cell_type": "code",
      "source": [
        "#static():\n",
        "name = \"Alice\"\n",
        "age = 30\n",
        "print(\"My name is\", name, \"and I am\", age, \"years old.\")\n"
      ],
      "metadata": {
        "colab": {
          "base_uri": "https://localhost:8080/"
        },
        "id": "DO31uvMGesZL",
        "outputId": "97f93365-8b9d-4da5-a01a-86b59ed85e58"
      },
      "execution_count": null,
      "outputs": [
        {
          "output_type": "stream",
          "name": "stdout",
          "text": [
            "My name is Alice and I am 30 years old.\n"
          ]
        }
      ]
    },
    {
      "cell_type": "code",
      "source": [
        "# User input:\n",
        "name = input(\"Enter your name: \")#contain name\n",
        "print(\"Hello, \" + name + \"!\")\n",
        "\n",
        "age = int(input(\"Enter your age: \"))#contains age\n",
        "print(\"Your age is:\", age)"
      ],
      "metadata": {
        "colab": {
          "base_uri": "https://localhost:8080/"
        },
        "id": "s601xFiIe0s6",
        "outputId": "5bc8a623-7935-4bd6-c83b-183f3496d9d9"
      },
      "execution_count": null,
      "outputs": [
        {
          "output_type": "stream",
          "name": "stdout",
          "text": [
            "Enter your name: dinesh\n",
            "Hello, dinesh!\n",
            "Enter your age: 20\n",
            "Your age is: 20\n"
          ]
        }
      ]
    },
    {
      "cell_type": "markdown",
      "source": [
        "examples:-\n",
        "1. write a python program to check given year is leap year are not ?\n"
      ],
      "metadata": {
        "id": "-at5YYhEiobr"
      }
    },
    {
      "cell_type": "code",
      "source": [
        "year = int(input(\"Enter a year: \"))\n",
        "if (year % 4 == 0):\n",
        "    print(year, \"is a leap year.\")\n",
        "else:\n",
        "    print(year, \"is not a leap year.\")"
      ],
      "metadata": {
        "colab": {
          "base_uri": "https://localhost:8080/"
        },
        "id": "EReFRX1LjBqV",
        "outputId": "1090d868-9d16-4bee-82cc-b25626751ba2"
      },
      "execution_count": null,
      "outputs": [
        {
          "output_type": "stream",
          "name": "stdout",
          "text": [
            "Enter a year: 2003\n",
            "2003 is not a leap year.\n"
          ]
        }
      ]
    },
    {
      "cell_type": "markdown",
      "source": [
        "2. write a python program to find a given number even or odd ?"
      ],
      "metadata": {
        "id": "6pc1rVQaliCq"
      }
    },
    {
      "cell_type": "code",
      "source": [
        "#write a python program to find a given number even or odd ?\n",
        "num = int(input(\"Enter your number:\"))\n",
        "if (num %2 == 0):\n",
        "  print(num, \"is even number.\")\n",
        "else:\n",
        "  print(num, \"is odd number.\")"
      ],
      "metadata": {
        "colab": {
          "base_uri": "https://localhost:8080/"
        },
        "id": "MiExwlbRjuZX",
        "outputId": "847a24eb-331e-4192-9196-879fe6547e6f"
      },
      "execution_count": null,
      "outputs": [
        {
          "output_type": "stream",
          "name": "stdout",
          "text": [
            "Enter your number:10\n",
            "10 is even number.\n"
          ]
        }
      ]
    },
    {
      "cell_type": "code",
      "source": [
        "# 3. write a python program to check if a list is empty or nor?\n",
        "my_list =[]\n",
        "if not my_list:\n",
        "  print(\"the list is empty\")\n",
        "else:\n",
        "  print(\"the list is not empty\")"
      ],
      "metadata": {
        "colab": {
          "base_uri": "https://localhost:8080/"
        },
        "id": "d8a7L4cml-xa",
        "outputId": "048b0a96-9949-4fc5-ee84-48ccb2a1ec08"
      },
      "execution_count": null,
      "outputs": [
        {
          "output_type": "stream",
          "name": "stdout",
          "text": [
            "the list is empty\n"
          ]
        }
      ]
    },
    {
      "cell_type": "code",
      "source": [
        "from re import A\n",
        "# 4.write a python code to calculate grade of a students?\n",
        "grade = int(input(\"Enter your grade:\"))\n",
        "if grade >= 90:\n",
        "  print(\"A\")\n",
        "elif grade >= 80:\n",
        "  print(\"B\")\n",
        "elif grade >= 70:\n",
        "  print(\"C\")\n",
        "elif grade >= 60:\n",
        "  print(\"D\")\n",
        "elif grade >= 50:\n",
        "  print(\"E\")\n",
        "else:\n",
        "  print(\"F\")\n"
      ],
      "metadata": {
        "colab": {
          "base_uri": "https://localhost:8080/"
        },
        "id": "dP3OoxE-mear",
        "outputId": "004f7109-7b19-473a-8913-d31ece550251"
      },
      "execution_count": null,
      "outputs": [
        {
          "output_type": "stream",
          "name": "stdout",
          "text": [
            "Enter your grade:40\n",
            "F\n"
          ]
        }
      ]
    },
    {
      "cell_type": "code",
      "source": [
        "#"
      ],
      "metadata": {
        "id": "Gs5_A-7Qo2M5"
      },
      "execution_count": null,
      "outputs": []
    },
    {
      "cell_type": "markdown",
      "source": [
        "5. check whether given word is a palindrome or not\n",
        "6. write a python program to find smallest among three numbers\n",
        "7. find the second largest number in a list\n",
        "8. calculate BMI and categorize it\n",
        " * underweight\n",
        " * bodyweight\n",
        "9. write a python program to check vote eligiblity\n",
        "10. write a python program to find person belongs to which type of group\n",
        "* school group lessthen 22\n",
        "* work group lessthen 22 and greater then 50\n",
        "* retire group graterthen 50  "
      ],
      "metadata": {
        "id": "M8iYEXF6pyi4"
      }
    },
    {
      "source": [
        "#write a python program to find person belongs to which type of group\n",
        "#school group lessthen 22\n",
        "#work group lessthen 22 and greater then 50\n",
        "#retire group graterthen 50\n",
        "age = int(input(\"Enter the person's age: \"))\n",
        "if age < 22:\n",
        "  group = \"School Group\"\n",
        "elif age > 50:\n",
        "  group = \"Retire Group\"\n",
        "else:\n",
        "  group = \"Work Group\"\n",
        "print(f\"The person belongs to the {group}\")"
      ],
      "cell_type": "code",
      "metadata": {
        "id": "kuV6xU5BlIzx",
        "colab": {
          "base_uri": "https://localhost:8080/"
        },
        "outputId": "225e8425-58c0-48c7-c878-970c0ce84baa"
      },
      "execution_count": null,
      "outputs": [
        {
          "output_type": "stream",
          "name": "stdout",
          "text": [
            "Enter the person's age: 23\n",
            "The person belongs to the Work Group\n"
          ]
        }
      ]
    },
    {
      "source": [
        "#write a python program to check vote eligiblity\n",
        "age = 18  # Replace with the person's age\n",
        "\n",
        "if age >= 18:\n",
        "  print(\"You are eligible to vote.\")\n",
        "else:\n",
        "  print(\"You are not eligible to vote.\")"
      ],
      "cell_type": "code",
      "metadata": {
        "colab": {
          "base_uri": "https://localhost:8080/"
        },
        "id": "glI0QPY3kri7",
        "outputId": "495da775-16b1-41cc-b69a-03fd4e5388b1"
      },
      "execution_count": null,
      "outputs": [
        {
          "output_type": "stream",
          "name": "stdout",
          "text": [
            "You are eligible to vote.\n"
          ]
        }
      ]
    },
    {
      "cell_type": "code",
      "source": [
        "# check whether given word is a palindrome or not\n",
        "num = input(\"Enter numbers: \")\n",
        "if num == num[::-1]:\n",
        "    print(\"numbers is a palindrome.\")\n",
        "else:\n",
        "    print(\"numbers is not a palindrome.\")\n"
      ],
      "metadata": {
        "colab": {
          "base_uri": "https://localhost:8080/"
        },
        "id": "I8ehMuTVFyoB",
        "outputId": "6f326025-8bc9-49e3-d207-82ac21f1c65f"
      },
      "execution_count": null,
      "outputs": [
        {
          "output_type": "stream",
          "name": "stdout",
          "text": [
            "Enter numbers: madam\n",
            "numbers is a palindrome.\n"
          ]
        }
      ]
    },
    {
      "source": [
        "#write a python program to find smallest among three numbers?\n",
        "num1 = 10\n",
        "num2 = 5\n",
        "num3 = 15\n",
        "if num1 <= num2 and num1 <= num3:\n",
        "  smallest = num1\n",
        "elif num2 <= num1 and num2 <= num3:\n",
        "  smallest = num2\n",
        "else:\n",
        "  smallest = num3\n",
        "print(\"The smallest number is:\", smallest)"
      ],
      "cell_type": "code",
      "metadata": {
        "colab": {
          "base_uri": "https://localhost:8080/"
        },
        "id": "n4OPxc-Rd_03",
        "outputId": "88fffb5d-cc87-4e28-93cd-6341e1c1b2e2"
      },
      "execution_count": null,
      "outputs": [
        {
          "output_type": "stream",
          "name": "stdout",
          "text": [
            "The smallest number is: 5\n"
          ]
        }
      ]
    },
    {
      "source": [
        "##find the second largest number in a list?\n",
        "numbers = [12, 45, 2, 41, 31, 10, 8, 6, 4]\n",
        "for num in numbers:\n",
        "  if num > largest:\n",
        "    second_largest = largest\n",
        "    largest = num\n",
        "  elif num > second_largest and num != largest:\n",
        "    second_largest = num\n",
        "print(\"The second largest number is:\", second_largest)"
      ],
      "cell_type": "code",
      "metadata": {
        "colab": {
          "base_uri": "https://localhost:8080/"
        },
        "id": "aVRj93cVgX61",
        "outputId": "9d217150-0b24-4cc7-a5f6-426eb1b59f7f"
      },
      "execution_count": null,
      "outputs": [
        {
          "output_type": "stream",
          "name": "stdout",
          "text": [
            "The second largest number is: 41\n"
          ]
        }
      ]
    }
  ]
}