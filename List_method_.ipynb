{
  "nbformat": 4,
  "nbformat_minor": 0,
  "metadata": {
    "colab": {
      "provenance": [],
      "authorship_tag": "ABX9TyPIejBtbCZsQmERzfoF6Wvp",
      "include_colab_link": true
    },
    "kernelspec": {
      "name": "python3",
      "display_name": "Python 3"
    },
    "language_info": {
      "name": "python"
    }
  },
  "cells": [
    {
      "cell_type": "markdown",
      "metadata": {
        "id": "view-in-github",
        "colab_type": "text"
      },
      "source": [
        "<a href=\"https://colab.research.google.com/github/Mallugaridharmesh/Python/blob/main/List_method_.ipynb\" target=\"_parent\"><img src=\"https://colab.research.google.com/assets/colab-badge.svg\" alt=\"Open In Colab\"/></a>"
      ]
    },
    {
      "cell_type": "markdown",
      "source": [
        "# List method:-\n",
        " > Python List Methods are the built-in methods in lists used to perform operations on Python lists/arrays\n",
        "1. Appened\n",
        "2. clear\n",
        "3. copy\n",
        "4. count\n",
        "5. extend\n",
        "6. index\n",
        "7. insert\n",
        "8. pop\n",
        "9. remove\n",
        "10. reverse\n",
        "11. sort\n",
        "12. min\n",
        "13. max"
      ],
      "metadata": {
        "id": "e3K4hYwyRvpq"
      }
    },
    {
      "cell_type": "markdown",
      "source": [
        "* Appened:\n",
        "> Python list append() method is used to add elements at the end of the list."
      ],
      "metadata": {
        "id": "lyET1ZsYjDFJ"
      }
    },
    {
      "cell_type": "code",
      "source": [
        "#append\n",
        "a=[1,2,3]\n",
        "a.append(7)\n",
        "print(a)"
      ],
      "metadata": {
        "colab": {
          "base_uri": "https://localhost:8080/"
        },
        "outputId": "94361319-3f1a-40b0-f305-36ef95db13e4",
        "id": "BApYvkkzijDa"
      },
      "execution_count": null,
      "outputs": [
        {
          "output_type": "stream",
          "name": "stdout",
          "text": [
            "[1, 2, 3, 7]\n"
          ]
        }
      ]
    },
    {
      "cell_type": "markdown",
      "source": [
        "* clear():-\n",
        "> Removes all the elements from the list"
      ],
      "metadata": {
        "id": "n-b59-etijDa"
      }
    },
    {
      "cell_type": "code",
      "source": [
        "#clear()\n",
        "a=[1,2,3]\n",
        "a.clear()\n",
        "print(a)\n"
      ],
      "metadata": {
        "colab": {
          "base_uri": "https://localhost:8080/"
        },
        "outputId": "dc347ba0-3e56-4070-cf20-b62bcd38fcf6",
        "id": "84RiP_F7ijDa"
      },
      "execution_count": null,
      "outputs": [
        {
          "output_type": "stream",
          "name": "stdout",
          "text": [
            "[]\n"
          ]
        }
      ]
    },
    {
      "cell_type": "markdown",
      "source": [
        "* copy():-\n",
        "> Returns a copy of the list"
      ],
      "metadata": {
        "id": "LTcrHugrijDb"
      }
    },
    {
      "cell_type": "code",
      "source": [
        "#copy\n",
        "a=[1,2,3]\n",
        "a.copy()\n",
        "print(a)"
      ],
      "metadata": {
        "colab": {
          "base_uri": "https://localhost:8080/"
        },
        "outputId": "2da87e61-60de-4e50-ac2b-2a2b764016af",
        "id": "gfGiFXZwijDb"
      },
      "execution_count": null,
      "outputs": [
        {
          "output_type": "stream",
          "name": "stdout",
          "text": [
            "[1, 2, 3]\n"
          ]
        }
      ]
    },
    {
      "cell_type": "markdown",
      "source": [
        "* count\n",
        "> Returns the number of elements with the specified value"
      ],
      "metadata": {
        "id": "zmXfK3AZijDc"
      }
    },
    {
      "cell_type": "code",
      "source": [
        "#count():\n",
        "a=[1,2,2,2,3]\n",
        "a= a.count(2)\n",
        "print(a)\n"
      ],
      "metadata": {
        "colab": {
          "base_uri": "https://localhost:8080/"
        },
        "outputId": "07e9f7a8-3ae2-4743-fe66-150f66df9a5d",
        "id": "0w6GGxS0ijDc"
      },
      "execution_count": null,
      "outputs": [
        {
          "output_type": "stream",
          "name": "stdout",
          "text": [
            "3\n"
          ]
        }
      ]
    },
    {
      "cell_type": "markdown",
      "source": [
        "* extend\n",
        "> Add the elements of a list (or any iterable), to the end of the current list"
      ],
      "metadata": {
        "id": "P2sPYKXlijDc"
      }
    },
    {
      "cell_type": "code",
      "source": [
        "# extend\n",
        "a=[1,2,3]\n",
        "b=[1,2,6,7]\n",
        "a.extend(b)\n",
        "print(a)"
      ],
      "metadata": {
        "colab": {
          "base_uri": "https://localhost:8080/"
        },
        "outputId": "9bb2a0ed-5854-4b4b-dbdb-d20061cb1e41",
        "id": "L6cOIOh_ijDd"
      },
      "execution_count": null,
      "outputs": [
        {
          "output_type": "stream",
          "name": "stdout",
          "text": [
            "[1, 2, 3, 1, 2, 6, 7]\n"
          ]
        }
      ]
    },
    {
      "cell_type": "markdown",
      "source": [
        "* index()\n",
        "> Returns the index of the first element with the specified value"
      ],
      "metadata": {
        "id": "fRZeT_wKijDd"
      }
    },
    {
      "cell_type": "code",
      "source": [
        "#index():\n",
        "a = ['dinesh', 'ravi', 'dharmesh']\n",
        "b = a.index(\"dharmesh\")\n",
        "print(b)\n"
      ],
      "metadata": {
        "colab": {
          "base_uri": "https://localhost:8080/"
        },
        "outputId": "c7d4efc4-fb2d-431b-d856-806b0dab2162",
        "id": "9x7XMQ55ijDd"
      },
      "execution_count": null,
      "outputs": [
        {
          "output_type": "stream",
          "name": "stdout",
          "text": [
            "2\n"
          ]
        }
      ]
    },
    {
      "cell_type": "markdown",
      "source": [
        "* insert():\n",
        "> Adds an element at the specified position"
      ],
      "metadata": {
        "id": "TZM7CC6QijDe"
      }
    },
    {
      "cell_type": "code",
      "source": [
        "#insert():\n",
        "a = ['dinesh', 'ravi', 'dharmesh']\n",
        "a.insert(2,\"chinna\")\n",
        "print(a)"
      ],
      "metadata": {
        "colab": {
          "base_uri": "https://localhost:8080/"
        },
        "outputId": "d5e88162-2969-40ec-dbf7-ca2491ee74a8",
        "id": "MkP3Zd4xijDe"
      },
      "execution_count": null,
      "outputs": [
        {
          "output_type": "stream",
          "name": "stdout",
          "text": [
            "['dinesh', 'ravi', 'chinna', 'dharmesh']\n"
          ]
        }
      ]
    },
    {
      "cell_type": "markdown",
      "source": [
        "* pop():\n",
        "> Removes the element at the specified position"
      ],
      "metadata": {
        "id": "pmbVT8ByijDf"
      }
    },
    {
      "cell_type": "code",
      "source": [
        "#pop();\n",
        "a = ['dinesh', 'ravi', 'dharmesh']\n",
        "a.pop(2)\n",
        "print(a)"
      ],
      "metadata": {
        "colab": {
          "base_uri": "https://localhost:8080/"
        },
        "outputId": "c7c13192-d52b-4684-a70e-5036bef18db8",
        "id": "Qa7c8TdBijDf"
      },
      "execution_count": null,
      "outputs": [
        {
          "output_type": "stream",
          "name": "stdout",
          "text": [
            "['dinesh', 'ravi']\n"
          ]
        }
      ]
    },
    {
      "cell_type": "markdown",
      "source": [
        "* remove():\n",
        ">Removes the first item with the specified value"
      ],
      "metadata": {
        "id": "7tDWLKskijDf"
      }
    },
    {
      "cell_type": "code",
      "source": [
        "#remove();\n",
        "a = ['dinesh', 'ravi', 'dharmesh']\n",
        "a.remove(\"dinesh\")\n",
        "print(a)"
      ],
      "metadata": {
        "colab": {
          "base_uri": "https://localhost:8080/"
        },
        "outputId": "cc5c9ad8-f81b-4910-c5d8-ac1271369e8d",
        "id": "bxhHGpXxijDg"
      },
      "execution_count": null,
      "outputs": [
        {
          "output_type": "stream",
          "name": "stdout",
          "text": [
            "['ravi', 'dharmesh']\n"
          ]
        }
      ]
    },
    {
      "cell_type": "markdown",
      "source": [
        "* reverses():\n",
        "> Reverses the order of the list"
      ],
      "metadata": {
        "id": "F9hsBCWVijDg"
      }
    },
    {
      "cell_type": "code",
      "source": [
        "#reverses():\n",
        "a = ['dinesh', 'ravi', 'dharmesh']\n",
        "a.reverse()\n",
        "print(a)"
      ],
      "metadata": {
        "colab": {
          "base_uri": "https://localhost:8080/"
        },
        "outputId": "74a7b6ab-4eee-45ee-c42e-7ab5f669850d",
        "id": "iKc2OeBAijDg"
      },
      "execution_count": null,
      "outputs": [
        {
          "output_type": "stream",
          "name": "stdout",
          "text": [
            "['dharmesh', 'ravi', 'dinesh']\n"
          ]
        }
      ]
    },
    {
      "cell_type": "markdown",
      "source": [
        "* sort():\n",
        "> Sorts the list\n"
      ],
      "metadata": {
        "id": "zbigKPc9ijDh"
      }
    },
    {
      "cell_type": "code",
      "source": [
        "#sort():\n",
        "a = [1,3,2]\n",
        "a.sort()\n",
        "print(a)"
      ],
      "metadata": {
        "colab": {
          "base_uri": "https://localhost:8080/"
        },
        "outputId": "7985d442-b941-4cda-b578-55b4be1db621",
        "id": "Hvkv235aijDh"
      },
      "execution_count": null,
      "outputs": [
        {
          "output_type": "stream",
          "name": "stdout",
          "text": [
            "[1, 2, 3]\n"
          ]
        }
      ]
    },
    {
      "cell_type": "code",
      "source": [
        "#max\n",
        "a = [1,3,2]\n",
        "a=max(a)\n",
        "print(a)"
      ],
      "metadata": {
        "outputId": "c540aa5a-ff7f-4905-b78e-3ffe17b35ebb",
        "colab": {
          "base_uri": "https://localhost:8080/"
        },
        "id": "MQ03F89VijDh"
      },
      "execution_count": null,
      "outputs": [
        {
          "output_type": "stream",
          "name": "stdout",
          "text": [
            "3\n"
          ]
        }
      ]
    },
    {
      "cell_type": "code",
      "source": [
        "#min\n",
        "a = [1,3,2]\n",
        "a=min(a)\n",
        "print"
      ],
      "metadata": {
        "id": "6raMuhmWijDi"
      },
      "execution_count": null,
      "outputs": []
    },
    {
      "cell_type": "code",
      "source": [
        "#change the range of items list:example(4:5)\n",
        "a=[\"dinesh\",\"ravi\",\"dharmesh\"]\n",
        "a[2:2]=[\"chinna\"]\n",
        "print(a)"
      ],
      "metadata": {
        "colab": {
          "base_uri": "https://localhost:8080/"
        },
        "id": "mc2UqmTyPccB",
        "outputId": "db8c12c0-05ff-4063-87ed-2033f888d4ec"
      },
      "execution_count": null,
      "outputs": [
        {
          "output_type": "stream",
          "name": "stdout",
          "text": [
            "['dinesh', 'ravi', 'chinna', 'dharmesh']\n"
          ]
        }
      ]
    },
    {
      "cell_type": "markdown",
      "source": [
        "# List method:-\n",
        "1. Appened\n",
        "2. clear\n",
        "3. copy\n",
        "4. count\n",
        "5. extend\n",
        "6. index\n",
        "7. insert\n",
        "8. pop\n",
        "9. remove\n",
        "10. reverse\n",
        "11. sort\n",
        "12. min\n",
        "13. max"
      ],
      "metadata": {
        "id": "SL0BnfhjieRW"
      }
    },
    {
      "cell_type": "code",
      "source": [
        "#append\n",
        "a=[1,2,3]\n",
        "a.append(7)\n",
        "print(a)"
      ],
      "metadata": {
        "colab": {
          "base_uri": "https://localhost:8080/"
        },
        "outputId": "94361319-3f1a-40b0-f305-36ef95db13e4",
        "id": "NwBBsSoNieRX"
      },
      "execution_count": null,
      "outputs": [
        {
          "output_type": "stream",
          "name": "stdout",
          "text": [
            "[1, 2, 3, 7]\n"
          ]
        }
      ]
    },
    {
      "cell_type": "markdown",
      "source": [
        "* clear():-\n",
        "> Removes all the elements from the list"
      ],
      "metadata": {
        "id": "AmyP0R39ieRa"
      }
    },
    {
      "cell_type": "code",
      "source": [
        "#clear()\n",
        "a=[1,2,3]\n",
        "a.clear()\n",
        "print(a)\n"
      ],
      "metadata": {
        "colab": {
          "base_uri": "https://localhost:8080/"
        },
        "outputId": "dc347ba0-3e56-4070-cf20-b62bcd38fcf6",
        "id": "37wgBkvMieRa"
      },
      "execution_count": null,
      "outputs": [
        {
          "output_type": "stream",
          "name": "stdout",
          "text": [
            "[]\n"
          ]
        }
      ]
    },
    {
      "cell_type": "markdown",
      "source": [
        "* copy():-\n",
        "> Returns a copy of the list"
      ],
      "metadata": {
        "id": "kwCe0EqKieRb"
      }
    },
    {
      "cell_type": "code",
      "source": [
        "#copy\n",
        "a=[1,2,3]\n",
        "a.copy()\n",
        "print(a)"
      ],
      "metadata": {
        "colab": {
          "base_uri": "https://localhost:8080/"
        },
        "outputId": "2da87e61-60de-4e50-ac2b-2a2b764016af",
        "id": "-7NBleMmieRc"
      },
      "execution_count": null,
      "outputs": [
        {
          "output_type": "stream",
          "name": "stdout",
          "text": [
            "[1, 2, 3]\n"
          ]
        }
      ]
    },
    {
      "cell_type": "markdown",
      "source": [
        "* count\n",
        "> Returns the number of elements with the specified value"
      ],
      "metadata": {
        "id": "5IhwexVGieRd"
      }
    },
    {
      "cell_type": "code",
      "source": [
        "#count():\n",
        "a=[1,2,3]\n",
        "a= a.count(2)\n",
        "print(a)\n"
      ],
      "metadata": {
        "colab": {
          "base_uri": "https://localhost:8080/"
        },
        "outputId": "4b8790a9-9ef3-459e-96b6-e83ad4370f49",
        "id": "siB-rUOpieRd"
      },
      "execution_count": null,
      "outputs": [
        {
          "output_type": "stream",
          "name": "stdout",
          "text": [
            "1\n"
          ]
        }
      ]
    },
    {
      "cell_type": "markdown",
      "source": [
        "* extend\n",
        "> Add the elements of a list (or any iterable), to the end of the current list"
      ],
      "metadata": {
        "id": "WcRcINQ3ieRe"
      }
    },
    {
      "cell_type": "code",
      "source": [
        "# extend\n",
        "a=[1,2,3]\n",
        "b=[1,2,6,7]\n",
        "a.extend(b)\n",
        "print(a)"
      ],
      "metadata": {
        "colab": {
          "base_uri": "https://localhost:8080/"
        },
        "outputId": "9bb2a0ed-5854-4b4b-dbdb-d20061cb1e41",
        "id": "28tW7TP9ieRf"
      },
      "execution_count": null,
      "outputs": [
        {
          "output_type": "stream",
          "name": "stdout",
          "text": [
            "[1, 2, 3, 1, 2, 6, 7]\n"
          ]
        }
      ]
    },
    {
      "cell_type": "markdown",
      "source": [
        "* index()\n",
        "> Returns the index of the first element with the specified value"
      ],
      "metadata": {
        "id": "x506_pCeieRh"
      }
    },
    {
      "cell_type": "code",
      "source": [
        "#index():\n",
        "a = ['dinesh', 'ravi', 'dharmesh']\n",
        "b = a.index(\"dharmesh\")\n",
        "print(b)\n"
      ],
      "metadata": {
        "colab": {
          "base_uri": "https://localhost:8080/"
        },
        "outputId": "c7d4efc4-fb2d-431b-d856-806b0dab2162",
        "id": "bD8BYU9bieRi"
      },
      "execution_count": null,
      "outputs": [
        {
          "output_type": "stream",
          "name": "stdout",
          "text": [
            "2\n"
          ]
        }
      ]
    },
    {
      "cell_type": "markdown",
      "source": [
        "* insert():\n",
        "> Adds an element at the specified position"
      ],
      "metadata": {
        "id": "4s3zpeHQieRi"
      }
    },
    {
      "cell_type": "code",
      "source": [
        "#insert():\n",
        "a = ['dinesh', 'ravi', 'dharmesh']\n",
        "a.insert(2,\"chinna\")\n",
        "print(a)"
      ],
      "metadata": {
        "colab": {
          "base_uri": "https://localhost:8080/"
        },
        "outputId": "d5e88162-2969-40ec-dbf7-ca2491ee74a8",
        "id": "t0ozUAI0ieRj"
      },
      "execution_count": null,
      "outputs": [
        {
          "output_type": "stream",
          "name": "stdout",
          "text": [
            "['dinesh', 'ravi', 'chinna', 'dharmesh']\n"
          ]
        }
      ]
    },
    {
      "cell_type": "markdown",
      "source": [
        "* pop():\n",
        "> Removes the element at the specified position"
      ],
      "metadata": {
        "id": "LWxUcZTZieRk"
      }
    },
    {
      "cell_type": "code",
      "source": [
        "#pop();\n",
        "a = ['dinesh', 'ravi', 'dharmesh']\n",
        "a.pop(2)\n",
        "print(a)"
      ],
      "metadata": {
        "colab": {
          "base_uri": "https://localhost:8080/"
        },
        "outputId": "c7c13192-d52b-4684-a70e-5036bef18db8",
        "id": "4uu7AquXieRm"
      },
      "execution_count": null,
      "outputs": [
        {
          "output_type": "stream",
          "name": "stdout",
          "text": [
            "['dinesh', 'ravi']\n"
          ]
        }
      ]
    },
    {
      "cell_type": "markdown",
      "source": [
        "* remove():\n",
        ">Removes the first item with the specified value"
      ],
      "metadata": {
        "id": "tyeZsnjBieRo"
      }
    },
    {
      "cell_type": "code",
      "source": [
        "#remove();\n",
        "a = ['dinesh', 'ravi', 'dharmesh']\n",
        "a.remove(\"dinesh\")\n",
        "print(a)"
      ],
      "metadata": {
        "colab": {
          "base_uri": "https://localhost:8080/"
        },
        "outputId": "cc5c9ad8-f81b-4910-c5d8-ac1271369e8d",
        "id": "fvyfXggKieRr"
      },
      "execution_count": null,
      "outputs": [
        {
          "output_type": "stream",
          "name": "stdout",
          "text": [
            "['ravi', 'dharmesh']\n"
          ]
        }
      ]
    },
    {
      "cell_type": "markdown",
      "source": [
        "* reverses():\n",
        "> Reverses the order of the list"
      ],
      "metadata": {
        "id": "IMo11cX3ieRr"
      }
    },
    {
      "cell_type": "code",
      "source": [
        "#reverses():\n",
        "a = ['dinesh', 'ravi', 'dharmesh']\n",
        "a.reverse()\n",
        "print(a)"
      ],
      "metadata": {
        "colab": {
          "base_uri": "https://localhost:8080/"
        },
        "outputId": "74a7b6ab-4eee-45ee-c42e-7ab5f669850d",
        "id": "fjqvjKrpieRr"
      },
      "execution_count": null,
      "outputs": [
        {
          "output_type": "stream",
          "name": "stdout",
          "text": [
            "['dharmesh', 'ravi', 'dinesh']\n"
          ]
        }
      ]
    },
    {
      "cell_type": "markdown",
      "source": [
        "* sort():\n",
        "> Sorts the list\n"
      ],
      "metadata": {
        "id": "ycY8FukhieRs"
      }
    },
    {
      "cell_type": "code",
      "source": [
        "#sort():\n",
        "a = [1,3,2]\n",
        "a.sort()\n",
        "print(a)"
      ],
      "metadata": {
        "colab": {
          "base_uri": "https://localhost:8080/"
        },
        "outputId": "18e9bc65-8a67-448d-b6db-4a210e7049f5",
        "id": "a5LxCGvvieRs"
      },
      "execution_count": null,
      "outputs": [
        {
          "output_type": "stream",
          "name": "stdout",
          "text": [
            "[1, 2, 3]\n"
          ]
        }
      ]
    },
    {
      "cell_type": "code",
      "source": [
        "#max\n",
        "a = [1,3,2]\n",
        "a=max(a)\n",
        "print(a)"
      ],
      "metadata": {
        "outputId": "c540aa5a-ff7f-4905-b78e-3ffe17b35ebb",
        "colab": {
          "base_uri": "https://localhost:8080/"
        },
        "id": "RiJGw8jcieRt"
      },
      "execution_count": null,
      "outputs": [
        {
          "output_type": "stream",
          "name": "stdout",
          "text": [
            "3\n"
          ]
        }
      ]
    },
    {
      "cell_type": "code",
      "source": [
        "#min\n",
        "a = [1,3,2]\n",
        "a=min(a)\n",
        "print"
      ],
      "metadata": {
        "id": "-YqpRivFieRt"
      },
      "execution_count": null,
      "outputs": []
    },
    {
      "cell_type": "code",
      "source": [
        "#append\n",
        "a=[1,2,3]\n",
        "a.append(7)\n",
        "print(a)"
      ],
      "metadata": {
        "colab": {
          "base_uri": "https://localhost:8080/"
        },
        "id": "YIP-8DpyS-hw",
        "outputId": "94361319-3f1a-40b0-f305-36ef95db13e4"
      },
      "execution_count": null,
      "outputs": [
        {
          "output_type": "stream",
          "name": "stdout",
          "text": [
            "[1, 2, 3, 7]\n"
          ]
        }
      ]
    },
    {
      "cell_type": "markdown",
      "source": [
        "* clear():-\n",
        "> Removes all the elements from the list"
      ],
      "metadata": {
        "id": "kiql6GbNZ5xq"
      }
    },
    {
      "cell_type": "code",
      "source": [
        "#clear()\n",
        "a=[1,2,3]\n",
        "a.clear()\n",
        "print(a)\n"
      ],
      "metadata": {
        "colab": {
          "base_uri": "https://localhost:8080/"
        },
        "id": "F8M_4iA6aLuI",
        "outputId": "dc347ba0-3e56-4070-cf20-b62bcd38fcf6"
      },
      "execution_count": null,
      "outputs": [
        {
          "output_type": "stream",
          "name": "stdout",
          "text": [
            "[]\n"
          ]
        }
      ]
    },
    {
      "cell_type": "markdown",
      "source": [
        "* copy():-\n",
        "> Returns a copy of the list"
      ],
      "metadata": {
        "id": "D45jpDrfa-cf"
      }
    },
    {
      "cell_type": "code",
      "source": [
        "#copy\n",
        "a=[1,2,3]\n",
        "a.copy()\n",
        "print(a)"
      ],
      "metadata": {
        "colab": {
          "base_uri": "https://localhost:8080/"
        },
        "id": "kcBhwBxkaSkT",
        "outputId": "2da87e61-60de-4e50-ac2b-2a2b764016af"
      },
      "execution_count": null,
      "outputs": [
        {
          "output_type": "stream",
          "name": "stdout",
          "text": [
            "[1, 2, 3]\n"
          ]
        }
      ]
    },
    {
      "cell_type": "markdown",
      "source": [
        "* count\n",
        "> Returns the number of elements with the specified value"
      ],
      "metadata": {
        "id": "uVKgf8UbbZ_j"
      }
    },
    {
      "cell_type": "code",
      "source": [
        "#count():\n",
        "a=[1,2,3]\n",
        "a= a.count(2)\n",
        "print(a)\n"
      ],
      "metadata": {
        "colab": {
          "base_uri": "https://localhost:8080/"
        },
        "id": "zPlsAQ_ObNkL",
        "outputId": "4b8790a9-9ef3-459e-96b6-e83ad4370f49"
      },
      "execution_count": null,
      "outputs": [
        {
          "output_type": "stream",
          "name": "stdout",
          "text": [
            "1\n"
          ]
        }
      ]
    },
    {
      "cell_type": "markdown",
      "source": [
        "* extend\n",
        "> Add the elements of a list (or any iterable), to the end of the current list"
      ],
      "metadata": {
        "id": "5FHWXBTYcbiS"
      }
    },
    {
      "cell_type": "code",
      "source": [
        "# extend\n",
        "a=[1,2,3]\n",
        "b=[1,2,6,7]\n",
        "a.extend(b)\n",
        "print(a)"
      ],
      "metadata": {
        "colab": {
          "base_uri": "https://localhost:8080/"
        },
        "id": "clid6O6KbwfU",
        "outputId": "9bb2a0ed-5854-4b4b-dbdb-d20061cb1e41"
      },
      "execution_count": null,
      "outputs": [
        {
          "output_type": "stream",
          "name": "stdout",
          "text": [
            "[1, 2, 3, 1, 2, 6, 7]\n"
          ]
        }
      ]
    },
    {
      "cell_type": "markdown",
      "source": [
        "* index()\n",
        "> Returns the index of the first element with the specified value"
      ],
      "metadata": {
        "id": "DgxbzYNScoto"
      }
    },
    {
      "cell_type": "code",
      "source": [
        "#index():\n",
        "a = ['dinesh', 'ravi', 'dharmesh']\n",
        "b = a.index(\"dharmesh\")\n",
        "print(b)\n"
      ],
      "metadata": {
        "colab": {
          "base_uri": "https://localhost:8080/"
        },
        "id": "FujcBSn6cmRl",
        "outputId": "c7d4efc4-fb2d-431b-d856-806b0dab2162"
      },
      "execution_count": null,
      "outputs": [
        {
          "output_type": "stream",
          "name": "stdout",
          "text": [
            "2\n"
          ]
        }
      ]
    },
    {
      "cell_type": "markdown",
      "source": [
        "* insert():\n",
        "> Adds an element at the specified position"
      ],
      "metadata": {
        "id": "hqSK1IFmc4Ni"
      }
    },
    {
      "cell_type": "code",
      "source": [
        "#insert():\n",
        "a = ['dinesh', 'ravi', 'dharmesh']\n",
        "a.insert(2,\"chinna\")\n",
        "print(a)"
      ],
      "metadata": {
        "colab": {
          "base_uri": "https://localhost:8080/"
        },
        "id": "obBmDhzyc03r",
        "outputId": "d5e88162-2969-40ec-dbf7-ca2491ee74a8"
      },
      "execution_count": null,
      "outputs": [
        {
          "output_type": "stream",
          "name": "stdout",
          "text": [
            "['dinesh', 'ravi', 'chinna', 'dharmesh']\n"
          ]
        }
      ]
    },
    {
      "cell_type": "markdown",
      "source": [
        "* pop():\n",
        "> Removes the element at the specified position"
      ],
      "metadata": {
        "id": "HNRK8Xd1eglb"
      }
    },
    {
      "cell_type": "code",
      "source": [
        "#pop();\n",
        "a = ['dinesh', 'ravi', 'dharmesh']\n",
        "a.pop(2)\n",
        "print(a)"
      ],
      "metadata": {
        "colab": {
          "base_uri": "https://localhost:8080/"
        },
        "id": "T_9jnGUtebLm",
        "outputId": "c7c13192-d52b-4684-a70e-5036bef18db8"
      },
      "execution_count": null,
      "outputs": [
        {
          "output_type": "stream",
          "name": "stdout",
          "text": [
            "['dinesh', 'ravi']\n"
          ]
        }
      ]
    },
    {
      "cell_type": "markdown",
      "source": [
        "* remove():\n",
        ">Removes the first item with the specified value"
      ],
      "metadata": {
        "id": "rzBTWWHoeyFK"
      }
    },
    {
      "cell_type": "code",
      "source": [
        "#remove();\n",
        "a = ['dinesh', 'ravi', 'dharmesh']\n",
        "a.remove(\"dinesh\")\n",
        "print(a)"
      ],
      "metadata": {
        "colab": {
          "base_uri": "https://localhost:8080/"
        },
        "id": "95-eFBh6erfy",
        "outputId": "cc5c9ad8-f81b-4910-c5d8-ac1271369e8d"
      },
      "execution_count": null,
      "outputs": [
        {
          "output_type": "stream",
          "name": "stdout",
          "text": [
            "['ravi', 'dharmesh']\n"
          ]
        }
      ]
    },
    {
      "cell_type": "markdown",
      "source": [
        "* reverses():\n",
        "> Reverses the order of the list"
      ],
      "metadata": {
        "id": "5ATj7ciGfCAJ"
      }
    },
    {
      "cell_type": "code",
      "source": [
        "#reverses():\n",
        "a = ['dinesh', 'ravi', 'dharmesh']\n",
        "a.reverse()\n",
        "print(a)"
      ],
      "metadata": {
        "colab": {
          "base_uri": "https://localhost:8080/"
        },
        "id": "d57uN93ae9V2",
        "outputId": "74a7b6ab-4eee-45ee-c42e-7ab5f669850d"
      },
      "execution_count": null,
      "outputs": [
        {
          "output_type": "stream",
          "name": "stdout",
          "text": [
            "['dharmesh', 'ravi', 'dinesh']\n"
          ]
        }
      ]
    },
    {
      "cell_type": "markdown",
      "source": [
        "* sort():\n",
        "> Sorts the list\n"
      ],
      "metadata": {
        "id": "IjrtoNCCfQOW"
      }
    },
    {
      "cell_type": "code",
      "source": [
        "#sort():\n",
        "a = [1,3,2]\n",
        "a.sort()\n",
        "print(a)"
      ],
      "metadata": {
        "colab": {
          "base_uri": "https://localhost:8080/"
        },
        "id": "7m37rdeufNns",
        "outputId": "18e9bc65-8a67-448d-b6db-4a210e7049f5"
      },
      "execution_count": null,
      "outputs": [
        {
          "output_type": "stream",
          "name": "stdout",
          "text": [
            "[1, 2, 3]\n"
          ]
        }
      ]
    },
    {
      "cell_type": "code",
      "source": [
        "#max\n",
        "a = [1,3,2]\n",
        "a=max(a)\n",
        "print(a)"
      ],
      "metadata": {
        "id": "qNm5QoU_fZsZ",
        "outputId": "c540aa5a-ff7f-4905-b78e-3ffe17b35ebb",
        "colab": {
          "base_uri": "https://localhost:8080/"
        }
      },
      "execution_count": null,
      "outputs": [
        {
          "output_type": "stream",
          "name": "stdout",
          "text": [
            "3\n"
          ]
        }
      ]
    },
    {
      "cell_type": "code",
      "source": [
        "#min():\n",
        "a = [4,3,2]\n",
        "a=min(a)\n",
        "print"
      ],
      "metadata": {
        "id": "xuLeeQi061L5",
        "colab": {
          "base_uri": "https://localhost:8080/"
        },
        "outputId": "4878b38a-bbb4-41a4-c153-a59d018e32dc"
      },
      "execution_count": null,
      "outputs": [
        {
          "output_type": "execute_result",
          "data": {
            "text/plain": [
              "<function print>"
            ]
          },
          "metadata": {},
          "execution_count": 5
        }
      ]
    },
    {
      "cell_type": "code",
      "source": [],
      "metadata": {
        "id": "tFhiTTqI9bZB"
      },
      "execution_count": null,
      "outputs": []
    }
  ]
}