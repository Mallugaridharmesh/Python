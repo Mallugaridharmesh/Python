{
  "nbformat": 4,
  "nbformat_minor": 0,
  "metadata": {
    "colab": {
      "provenance": [],
      "gpuType": "T4",
      "authorship_tag": "ABX9TyNNooBG+Eai6l0y4B+u2rKf",
      "include_colab_link": true
    },
    "kernelspec": {
      "name": "python3",
      "display_name": "Python 3"
    },
    "language_info": {
      "name": "python"
    },
    "accelerator": "GPU"
  },
  "cells": [
    {
      "cell_type": "markdown",
      "metadata": {
        "id": "view-in-github",
        "colab_type": "text"
      },
      "source": [
        "<a href=\"https://colab.research.google.com/github/Mallugaridharmesh/Python/blob/main/loop_statement.ipynb\" target=\"_parent\"><img src=\"https://colab.research.google.com/assets/colab-badge.svg\" alt=\"Open In Colab\"/></a>"
      ]
    },
    {
      "cell_type": "markdown",
      "source": [
        "# loop statement:\n",
        "> used to execute a block of statements repeatedly until a given condition is satisfied"
      ],
      "metadata": {
        "id": "s0lzChaOmNI-"
      }
    },
    {
      "cell_type": "markdown",
      "source": [
        "1. while loop:-\n",
        "> python while loop is used to run a block code until a certain condition is met\n",
        "* syntax:\n",
        "while condition:\n",
        "* A while loop evaluated the condition\n",
        "* if the condition evauater to true,the code inside the while loop is executed\n",
        "* condition is evaluated again\n",
        "* this process continues until the condition\n",
        "* when condition evaluated to false , the loop statement\n",
        "* here:\n",
        "* A while loop evaluates the condition\n",
        "* if condition is true,the code inside the while loop is executed\n",
        "* condition evaluated again\n",
        "* this process continues until condition is false\n",
        "* when the condition evaluates to false, then the code stops\n"
      ],
      "metadata": {
        "id": "MRnaV81gryEa"
      }
    },
    {
      "cell_type": "code",
      "source": [
        "# program to display numbers from 1 t0 5\n",
        "i=1\n",
        "while i<=5:\n",
        "    print(i)\n",
        "    i=i+1\n"
      ],
      "metadata": {
        "colab": {
          "base_uri": "https://localhost:8080/"
        },
        "id": "kvbGATXVr_3-",
        "outputId": "378ecc87-fd9b-41bd-b633-bb58308088af"
      },
      "execution_count": null,
      "outputs": [
        {
          "output_type": "stream",
          "name": "stdout",
          "text": [
            "1\n",
            "2\n",
            "3\n",
            "4\n",
            "5\n"
          ]
        }
      ]
    },
    {
      "cell_type": "markdown",
      "source": [
        "\n",
        "2. For loop\n",
        "* the for loop is used for iterating over a sequence (that is either a list,tuple,dict,string ,or range)\n",
        "* syntax:\n",
        "* for val in sequence : #statement\n",
        "* Here , val accesses each item of the sequence on each iteration\n",
        "* The loop continues until we reach the last item in the sequence.\n"
      ],
      "metadata": {
        "id": "Jaeg3XCds36C"
      }
    },
    {
      "cell_type": "code",
      "source": [
        "# for loop example in string:\n",
        "str=\"python\"\n",
        "for i in str:\n",
        "    print(i)"
      ],
      "metadata": {
        "colab": {
          "base_uri": "https://localhost:8080/"
        },
        "id": "YEL1GOo5ssgi",
        "outputId": "23e16e7c-388d-4c80-ffb0-e1fedb061e97"
      },
      "execution_count": null,
      "outputs": [
        {
          "output_type": "stream",
          "name": "stdout",
          "text": [
            "p\n",
            "y\n",
            "t\n",
            "h\n",
            "o\n",
            "n\n"
          ]
        }
      ]
    },
    {
      "cell_type": "code",
      "source": [
        "# for loop example in list data:\n",
        "list=[1,2,3,4,5]\n",
        "for i in list:\n",
        "    print(i)"
      ],
      "metadata": {
        "colab": {
          "base_uri": "https://localhost:8080/"
        },
        "id": "dICCfgrBtEVM",
        "outputId": "5eb542dd-97c7-47eb-bf55-9858bb5eafe3"
      },
      "execution_count": null,
      "outputs": [
        {
          "output_type": "stream",
          "name": "stdout",
          "text": [
            "1\n",
            "2\n",
            "3\n",
            "4\n",
            "5\n"
          ]
        }
      ]
    },
    {
      "cell_type": "code",
      "source": [
        "# for loop example in tuple:\n",
        "tuple=(1,2,3,4,5)\n",
        "for i in tuple:\n",
        "    print(i)"
      ],
      "metadata": {
        "colab": {
          "base_uri": "https://localhost:8080/"
        },
        "id": "RNd2BaJctLeB",
        "outputId": "a010d31a-c9fd-483b-f012-9f5a1c88fcd6"
      },
      "execution_count": null,
      "outputs": [
        {
          "output_type": "stream",
          "name": "stdout",
          "text": [
            "1\n",
            "2\n",
            "3\n",
            "4\n",
            "5\n"
          ]
        }
      ]
    },
    {
      "cell_type": "code",
      "source": [
        "# for loop example in dict:\n",
        "dict={1:\"one\",2:\"two\",3:\"three\"}\n",
        "for key,value in dict.items():\n",
        "    print(key,value)"
      ],
      "metadata": {
        "colab": {
          "base_uri": "https://localhost:8080/"
        },
        "id": "zu2Xj4mGtOpl",
        "outputId": "3a43d014-4844-478b-9b5e-103704bb4c67"
      },
      "execution_count": null,
      "outputs": [
        {
          "output_type": "stream",
          "name": "stdout",
          "text": [
            "1 one\n",
            "2 two\n",
            "3 three\n"
          ]
        }
      ]
    },
    {
      "cell_type": "code",
      "source": [
        "# Q2 python program to find a given number even or odd\n",
        "numbers = {4,5,6,7,3,2,1}\n",
        "for i in numbers:\n",
        "    if i%2==0:\n",
        "        print(f\"{i} is even\")\n",
        "    else:\n",
        "        print(f\"{i} is odd\")"
      ],
      "metadata": {
        "colab": {
          "base_uri": "https://localhost:8080/"
        },
        "id": "Emh1FqbCtSgs",
        "outputId": "7428387a-45fd-40dd-bcdd-a054f6c3ca03"
      },
      "execution_count": null,
      "outputs": [
        {
          "output_type": "stream",
          "name": "stdout",
          "text": [
            "1 is odd\n",
            "2 is even\n",
            "3 is odd\n",
            "4 is even\n",
            "5 is odd\n",
            "6 is even\n",
            "7 is odd\n"
          ]
        }
      ]
    },
    {
      "cell_type": "code",
      "source": [
        "# check whether given word is a palindrome or not in for loop statement:\n",
        "word = input(\"Enter a word:\")\n",
        "for i in word:\n",
        "    if word == word[::-1]:\n",
        "        print(\"word is a palindrome\")\n",
        "        break\n",
        "    else:\n",
        "        print(\"word is not a palindrome\")\n"
      ],
      "metadata": {
        "colab": {
          "base_uri": "https://localhost:8080/"
        },
        "id": "2osv__IXtpJn",
        "outputId": "b65b9fbe-fa04-4269-f3ef-0aa77ac74b33"
      },
      "execution_count": null,
      "outputs": [
        {
          "output_type": "stream",
          "name": "stdout",
          "text": [
            "Enter a word:madam\n",
            "word is a palindrome\n"
          ]
        }
      ]
    },
    {
      "cell_type": "code",
      "source": [
        "#write a python program to find smallest among three numbers in loop statement\n",
        "num1 = 10\n",
        "num2 = 5\n",
        "num3 = 15\n",
        "for i in num1,num2,num3:\n",
        "    if num1 <= num2 and num1 <= num3:\n",
        "        smallest = num1\n",
        "    elif num2 <= num1 and num2 <= num3:\n",
        "        smallest = num2\n",
        "    else:\n",
        "        smallest = num3\n",
        "    print(\"smallest number is:\",smallest)"
      ],
      "metadata": {
        "colab": {
          "base_uri": "https://localhost:8080/"
        },
        "id": "9swpXgUeuXMz",
        "outputId": "70846818-e1d1-4f07-bc11-fc4c16a676c1"
      },
      "execution_count": null,
      "outputs": [
        {
          "output_type": "stream",
          "name": "stdout",
          "text": [
            "smallest number is: 5\n",
            "smallest number is: 5\n",
            "smallest number is: 5\n"
          ]
        }
      ]
    },
    {
      "cell_type": "code",
      "source": [
        "##find the second largest number in a list in loop statement?\n",
        "numbers = [12, 45, 2, 41,10, 8, 6, 4]\n",
        "largest = numbers[0]\n",
        "second_largest = None\n",
        "for number in numbers:\n",
        "    if number > largest:\n",
        "        second_largest = largest\n",
        "        largest = number\n",
        "    elif second_largest is None or number > second_largest:\n",
        "        second_largest = number\n",
        "print(\"The second largest number is:\", second_largest)"
      ],
      "metadata": {
        "colab": {
          "base_uri": "https://localhost:8080/"
        },
        "id": "kKd6zVtjvU9R",
        "outputId": "4b782eb6-3378-4c19-9b6a-bc4f958aea8a"
      },
      "execution_count": null,
      "outputs": [
        {
          "output_type": "stream",
          "name": "stdout",
          "text": [
            "The second largest number is: 41\n"
          ]
        }
      ]
    },
    {
      "cell_type": "code",
      "source": [
        "#python program to check vote eligiblity\n",
        "age = [56,12,13,18,23,45]\n",
        "for n in age:\n",
        "    if n >= 18:\n",
        "        print(f\"Age {n} is  eligible\")\n",
        "    else:\n",
        "        print(f\"Age {n} is not eligible\")"
      ],
      "metadata": {
        "colab": {
          "base_uri": "https://localhost:8080/"
        },
        "id": "mmQVSIJ0xKK0",
        "outputId": "7cc29397-e13c-4172-94b9-2c1e73d8c719"
      },
      "execution_count": null,
      "outputs": [
        {
          "output_type": "stream",
          "name": "stdout",
          "text": [
            "Age 56 is  eligible\n",
            "Age 12 is not eligible\n",
            "Age 13 is not eligible\n",
            "Age 18 is  eligible\n",
            "Age 23 is  eligible\n",
            "Age 45 is  eligible\n"
          ]
        }
      ]
    },
    {
      "cell_type": "code",
      "source": [
        "#calculate BMI and categorize it\n",
        "#calculate BMI and categorize it\n",
        "weight = 70  # in kilograms\n",
        "height = 1.75  # in meters\n",
        "bmi = weight / (height ** 2)\n",
        "if bmi < 18.5:\n",
        "  category = \"Underweight\"\n",
        "elif 18.5 <= bmi < 25:\n",
        "  category = \"Normal weight\"\n",
        "elif 25 <= bmi < 30:\n",
        "  category = \"Overweight\"\n",
        "else:\n",
        "  category = \"Obese\"\n",
        "print(\"Your BMI is: bmi:.{2f}\")\n",
        "print(\"Your BMI category is:{category}\")\n",
        "\n"
      ],
      "metadata": {
        "id": "BM0vZ5ZyyZ1I",
        "colab": {
          "base_uri": "https://localhost:8080/"
        },
        "outputId": "475a4d00-d3e1-42d4-9a7a-4f6b9e839968"
      },
      "execution_count": null,
      "outputs": [
        {
          "output_type": "stream",
          "name": "stdout",
          "text": [
            "Your BMI is: bmi:.{2f}\n",
            "Your BMI category is:{category}\n"
          ]
        }
      ]
    },
    {
      "cell_type": "markdown",
      "source": [
        "write a python program to check given year is leap year are not ?"
      ],
      "metadata": {
        "id": "xKIPzdU3NoLi"
      }
    },
    {
      "cell_type": "code",
      "source": [
        "years = [2004,2003,2002,1985]  # List of years to check\n",
        "for year in years:\n",
        "    if (year % 4 == 0 and year % 100 != 0) or year % 400 == 0:\n",
        "        print(f\"{year} is a leap year\")\n",
        "    else:\n",
        "        print(f\"{year} is not a leap year\")"
      ],
      "metadata": {
        "colab": {
          "base_uri": "https://localhost:8080/"
        },
        "id": "GbQ6AUHyM5EE",
        "outputId": "3455d470-3473-476c-f59a-9f6856bd7bc0"
      },
      "execution_count": null,
      "outputs": [
        {
          "output_type": "stream",
          "name": "stdout",
          "text": [
            "2004 is a leap year\n",
            "2003 is not a leap year\n",
            "2002 is not a leap year\n",
            "1985 is not a leap year\n"
          ]
        }
      ]
    },
    {
      "cell_type": "markdown",
      "source": [
        " write a python program to check if a list is empty or nor?"
      ],
      "metadata": {
        "id": "OBITTS1iOGrc"
      }
    },
    {
      "cell_type": "code",
      "source": [
        "# 3. write a python program to check if a list is empty or nor?\n",
        "my_list = []\n",
        "for item in my_list:\n",
        "    print(\"List is not empty\")\n",
        "else:\n",
        "    print(\"List is empty\")\n"
      ],
      "metadata": {
        "colab": {
          "base_uri": "https://localhost:8080/"
        },
        "id": "2qMBsp_3OA-Y",
        "outputId": "3d0c04fd-b0c5-4110-d4e6-8f926feae8ef"
      },
      "execution_count": null,
      "outputs": [
        {
          "output_type": "stream",
          "name": "stdout",
          "text": [
            "List is empty\n"
          ]
        }
      ]
    },
    {
      "cell_type": "markdown",
      "source": [
        "write a python code to calculate grade of a students"
      ],
      "metadata": {
        "id": "GFdK8ZmpOpMN"
      }
    },
    {
      "cell_type": "code",
      "source": [
        "#write a python code to calculate grade of a student in loop statement.\n",
        "num_students = int(input(\"Enter the number of students: \"))\n",
        "for i in (num_students):  # Loop for each student\n",
        "    grade = int(input(\"Enter your grade: \"))\n",
        "\n",
        "    if grade >= 90:\n",
        "        print(\"A\")\n",
        "    elif grade >= 80:\n",
        "        print(\"B\")\n",
        "    elif grade >= 70:\n",
        "        print(\"C\")\n",
        "    elif grade >= 60:\n",
        "        print(\"D\")\n",
        "    elif grade >= 50:\n",
        "        print(\"E\")\n",
        "    else:\n",
        "        print(\"F\")\n"
      ],
      "metadata": {
        "id": "WT5vZce7OuKY"
      },
      "execution_count": null,
      "outputs": []
    },
    {
      "cell_type": "code",
      "source": [
        "hello = \"wellcome to Data science class at 5:30 pm\"\n",
        "for d in hello:\n",
        "    print(d)"
      ],
      "metadata": {
        "colab": {
          "base_uri": "https://localhost:8080/"
        },
        "id": "rowcSjgoOWIM",
        "outputId": "ecd86c89-18c0-4ca0-b7f8-5c2b49f54efc"
      },
      "execution_count": null,
      "outputs": [
        {
          "output_type": "stream",
          "name": "stdout",
          "text": [
            "w\n",
            "e\n",
            "l\n",
            "l\n",
            "c\n",
            "o\n",
            "m\n",
            "e\n",
            " \n",
            "t\n",
            "o\n",
            " \n",
            "D\n",
            "a\n",
            "t\n",
            "a\n",
            " \n",
            "s\n",
            "c\n",
            "i\n",
            "e\n",
            "n\n",
            "c\n",
            "e\n",
            " \n",
            "c\n",
            "l\n",
            "a\n",
            "s\n",
            "s\n",
            " \n",
            "a\n",
            "t\n",
            " \n",
            "5\n",
            ":\n",
            "3\n",
            "0\n",
            " \n",
            "p\n",
            "m\n"
          ]
        }
      ]
    },
    {
      "cell_type": "code",
      "source": [
        "list = [\"cool\",\"idly\",\"sambar\",\"chicken briyani\"]\n",
        "for value in list:\n",
        "    print(value)\n"
      ],
      "metadata": {
        "colab": {
          "base_uri": "https://localhost:8080/"
        },
        "id": "gFqXpd6vQ4zX",
        "outputId": "687a1753-e2a5-4541-9ec9-78dda9f830be"
      },
      "execution_count": null,
      "outputs": [
        {
          "output_type": "stream",
          "name": "stdout",
          "text": [
            "cool\n",
            "idly\n",
            "sambar\n",
            "chicken briyani\n"
          ]
        }
      ]
    },
    {
      "cell_type": "code",
      "source": [],
      "metadata": {
        "id": "KrpNfL_pSwnP"
      },
      "execution_count": null,
      "outputs": []
    }
  ]
}